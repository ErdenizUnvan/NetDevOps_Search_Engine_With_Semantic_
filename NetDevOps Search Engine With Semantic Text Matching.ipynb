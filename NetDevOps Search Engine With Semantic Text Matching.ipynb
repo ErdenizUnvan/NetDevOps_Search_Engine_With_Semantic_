{
 "cells": [
  {
   "cell_type": "code",
   "execution_count": null,
   "id": "ff5a3125",
   "metadata": {},
   "outputs": [],
   "source": [
    "#!pip install transformers==4.25.1\n",
    "#!pip show transformers\n",
    "#transformers==4.25.1"
   ]
  },
  {
   "cell_type": "code",
   "execution_count": null,
   "id": "010029a0",
   "metadata": {},
   "outputs": [],
   "source": [
    "#!pip install sentence-transformers==2.2.2\n",
    "#!pip show sentence_transformers\n",
    "#sentence-transformers==2.2.2"
   ]
  },
  {
   "cell_type": "code",
   "execution_count": null,
   "id": "c6517a57",
   "metadata": {},
   "outputs": [],
   "source": [
    "#!pip install torch==1.9.0\n",
    "#!pip show torch\n",
    "#torch==1.9.0"
   ]
  },
  {
   "cell_type": "code",
   "execution_count": null,
   "id": "a2e9a088",
   "metadata": {},
   "outputs": [],
   "source": [
    "#!pip install requests\n",
    "#!pip show requests\n",
    "#requests==2.28.1"
   ]
  },
  {
   "cell_type": "code",
   "execution_count": null,
   "id": "b7f14725",
   "metadata": {},
   "outputs": [],
   "source": [
    "#!pip install bs4\n",
    "#!pip show bs4\n",
    "#bs4==0.0.1"
   ]
  },
  {
   "cell_type": "code",
   "execution_count": 58,
   "id": "46f96a41",
   "metadata": {},
   "outputs": [
    {
     "data": {
      "text/plain": [
       "2113550"
      ]
     },
     "execution_count": 58,
     "metadata": {},
     "output_type": "execute_result"
    }
   ],
   "source": [
    "42271*50"
   ]
  },
  {
   "cell_type": "code",
   "execution_count": 1,
   "id": "ea3fa22d",
   "metadata": {},
   "outputs": [],
   "source": [
    "import os\n",
    "from sentence_transformers import SentenceTransformer, util\n",
    "import torch\n",
    "PWD = os.getcwd()\n",
    "model_name = 'paraphrase-multilingual-MiniLM-L12-v2'\n",
    "model = SentenceTransformer(os.path.join(PWD, model_name))"
   ]
  },
  {
   "cell_type": "code",
   "execution_count": 2,
   "id": "411d742e",
   "metadata": {},
   "outputs": [
    {
     "data": {
      "text/plain": [
       "50"
      ]
     },
     "execution_count": 2,
     "metadata": {},
     "output_type": "execute_result"
    }
   ],
   "source": [
    "import requests\n",
    "from bs4 import BeautifulSoup\n",
    "results=[]\n",
    "start_url = requests.get(f\"https://stackoverflow.com/questions/tagged/python?tab=newest&page=1&pagesize=15%22\")\n",
    "content = BeautifulSoup(start_url.text, 'lxml')\n",
    "questions = content.find_all('div', {'class':'s-post-summary js-post-summary' })\n",
    "for item in questions:\n",
    "    title = item.find('a', {'class': 's-link'}).text\n",
    "    links = 'https://stackoverflow.com/' + item.find('a', {'class': 's-link'})['href']\n",
    "    context = {'title': title, 'links':links}\n",
    "    results.append(context)\n",
    "len(results)"
   ]
  },
  {
   "cell_type": "code",
   "execution_count": 3,
   "id": "3e98f9d5",
   "metadata": {},
   "outputs": [
    {
     "data": {
      "text/plain": [
       "[{'title': 'Initialize fsspec DirFileSystem from a URL',\n",
       "  'links': 'https://stackoverflow.com//questions/75630145/initialize-fsspec-dirfilesystem-from-a-url'},\n",
       " {'title': 'how to reset a mayavi scene to default view?',\n",
       "  'links': 'https://stackoverflow.com//questions/75630139/how-to-reset-a-mayavi-scene-to-default-view'},\n",
       " {'title': 'How can I restart a for loop in python?',\n",
       "  'links': 'https://stackoverflow.com//questions/75630137/how-can-i-restart-a-for-loop-in-python'},\n",
       " {'title': 'Find and print the square numbers in a given range python',\n",
       "  'links': 'https://stackoverflow.com//questions/75630133/find-and-print-the-square-numbers-in-a-given-range-python'},\n",
       " {'title': 'How to use responseclass HTMLResponse with Pagination in fast api',\n",
       "  'links': 'https://stackoverflow.com//questions/75630130/how-to-use-responseclass-htmlresponse-with-pagination-in-fast-api'},\n",
       " {'title': 'Django running function every minutes even without request',\n",
       "  'links': 'https://stackoverflow.com//questions/75630124/django-running-function-every-minutes-even-without-request'},\n",
       " {'title': 'Pythonic way to type hint the output of a function that returns `Optional[object]`',\n",
       "  'links': 'https://stackoverflow.com//questions/75630115/pythonic-way-to-type-hint-the-output-of-a-function-that-returns-optionalobject'},\n",
       " {'title': 'Multiprocessing and event, type hint issue python',\n",
       "  'links': 'https://stackoverflow.com//questions/75630114/multiprocessing-and-event-type-hint-issue-python'},\n",
       " {'title': 'How to subset a pandas dataframe based on column names that matches the index of another dataframe?',\n",
       "  'links': 'https://stackoverflow.com//questions/75630112/how-to-subset-a-pandas-dataframe-based-on-column-names-that-matches-the-index-of'},\n",
       " {'title': 'index 1 is out of bounds for axis 1 with size 0: Python',\n",
       "  'links': 'https://stackoverflow.com//questions/75630098/index-1-is-out-of-bounds-for-axis-1-with-size-0-python'},\n",
       " {'title': 'Taking the average age an employee is hired with Sqlite3(python)',\n",
       "  'links': 'https://stackoverflow.com//questions/75630091/taking-the-average-age-an-employee-is-hired-with-sqlite3python'},\n",
       " {'title': 'Merge dataframes error: different variable type',\n",
       "  'links': 'https://stackoverflow.com//questions/75630086/merge-dataframes-error-different-variable-type'},\n",
       " {'title': 'How to force FFMPEG to ignore KeyboardInterrupts?',\n",
       "  'links': 'https://stackoverflow.com//questions/75630083/how-to-force-ffmpeg-to-ignore-keyboardinterrupts'},\n",
       " {'title': 'Hello guys, I am attempting to organize live data coming in from IBs TWS API into a pandas dataframe however im getting that some names not definedn',\n",
       "  'links': 'https://stackoverflow.com//questions/75630078/hello-guys-i-am-attempting-to-organize-live-data-coming-in-from-ibs-tws-api-int'},\n",
       " {'title': 'Deep Learning with Python IMDB dataset',\n",
       "  'links': 'https://stackoverflow.com//questions/75630073/deep-learning-with-python-imdb-dataset'},\n",
       " {'title': 'Get list of all keys in redis created by celery for tasks in Flask app',\n",
       "  'links': 'https://stackoverflow.com//questions/75630058/get-list-of-all-keys-in-redis-created-by-celery-for-tasks-in-flask-app'},\n",
       " {'title': 'Create an auto update feature in my python app',\n",
       "  'links': 'https://stackoverflow.com//questions/75630052/create-an-auto-update-feature-in-my-python-app'},\n",
       " {'title': 'Loading a file and extracting values in python',\n",
       "  'links': 'https://stackoverflow.com//questions/75630042/loading-a-file-and-extracting-values-in-python'},\n",
       " {'title': 'Is there an appropriate order for these pre-commit hooks: pyupgrade, autoflake, black, flake8, isort, pylint, mypy?',\n",
       "  'links': 'https://stackoverflow.com//questions/75630001/is-there-an-appropriate-order-for-these-pre-commit-hooks-pyupgrade-autoflake'},\n",
       " {'title': 'Why does getrefcount increase by 2 when put inside a function?',\n",
       "  'links': 'https://stackoverflow.com//questions/75629948/why-does-getrefcount-increase-by-2-when-put-inside-a-function'},\n",
       " {'title': 'How to replace particular characters of a string with the elements of a list in an efficient way?',\n",
       "  'links': 'https://stackoverflow.com//questions/75629940/how-to-replace-particular-characters-of-a-string-with-the-elements-of-a-list-in'},\n",
       " {'title': 'Solving a flexible multi-depot multi-vehicle VRP with OR-tools',\n",
       "  'links': 'https://stackoverflow.com//questions/75629938/solving-a-flexible-multi-depot-multi-vehicle-vrp-with-or-tools'},\n",
       " {'title': 'Suggest me NLP project ideas for my semester project, Note: I am not a beginner, I like challenges',\n",
       "  'links': 'https://stackoverflow.com//questions/75629932/suggest-me-nlp-project-ideas-for-my-semester-project-note-i-am-not-a-beginner'},\n",
       " {'title': 'I am getting KeyError',\n",
       "  'links': 'https://stackoverflow.com//questions/75629915/i-am-getting-keyerror'},\n",
       " {'title': 'Is there a way to make a password into stars',\n",
       "  'links': 'https://stackoverflow.com//questions/75629895/is-there-a-way-to-make-a-password-into-stars'},\n",
       " {'title': 'How to handle correctly SIGTERM in a gunicorn app?',\n",
       "  'links': 'https://stackoverflow.com//questions/75629891/how-to-handle-correctly-sigterm-in-a-gunicorn-app'},\n",
       " {'title': 'Clustering: cosine similarity for weekdays and euclidian distance for numerical values',\n",
       "  'links': 'https://stackoverflow.com//questions/75629880/clustering-cosine-similarity-for-weekdays-and-euclidian-distance-for-numerical'},\n",
       " {'title': 'Rust FFI return Vec<f64> to Python and free pointer [duplicate]',\n",
       "  'links': 'https://stackoverflow.com//questions/75629877/rust-ffi-return-vecf64-to-python-and-free-pointer'},\n",
       " {'title': 'How to check which format is date in python',\n",
       "  'links': 'https://stackoverflow.com//questions/75629863/how-to-check-which-format-is-date-in-python'},\n",
       " {'title': \"Why use a superclass's __init__ to change it into a subclass?\",\n",
       "  'links': 'https://stackoverflow.com//questions/75629852/why-use-a-superclasss-init-to-change-it-into-a-subclass'},\n",
       " {'title': \"why this is not working, I have already installed sklearn. it is showing the error when I'm trying to execute it\",\n",
       "  'links': 'https://stackoverflow.com//questions/75629835/why-this-is-not-working-i-have-already-installed-sklearn-it-is-showing-the-err'},\n",
       " {'title': 'Extremely slow performance of cv2.groupRectangles after cv2.matchTemplate (Darwin, M1 Pro)',\n",
       "  'links': 'https://stackoverflow.com//questions/75629830/extremely-slow-performance-of-cv2-grouprectangles-after-cv2-matchtemplate-darwi'},\n",
       " {'title': 'Writing Dataframes to disk periodically instead of infinitely growing memory usage',\n",
       "  'links': 'https://stackoverflow.com//questions/75629829/writing-dataframes-to-disk-periodically-instead-of-infinitely-growing-memory-usa'},\n",
       " {'title': 'signed fractional multiplication using q(4,20)',\n",
       "  'links': 'https://stackoverflow.com//questions/75629813/signed-fractional-multiplication-using-q4-20'},\n",
       " {'title': \"TypeError: 'decimal.Decimal' object cannot be interpreted as an integer\",\n",
       "  'links': 'https://stackoverflow.com//questions/75629808/typeerror-decimal-decimal-object-cannot-be-interpreted-as-an-integer'},\n",
       " {'title': 'How do I find the values of all neurons using keras',\n",
       "  'links': 'https://stackoverflow.com//questions/75629757/how-do-i-find-the-values-of-all-neurons-using-keras'},\n",
       " {'title': 'How to convert the spotify track id in the Music Streaming Sessions Dataset to the common track id in Spotify API?',\n",
       "  'links': 'https://stackoverflow.com//questions/75629716/how-to-convert-the-spotify-track-id-in-the-music-streaming-sessions-dataset-to-t'},\n",
       " {'title': 'Python: remove duplicate in json from 2 key value',\n",
       "  'links': 'https://stackoverflow.com//questions/75629706/python-remove-duplicate-in-json-from-2-key-value'},\n",
       " {'title': \"Line 21, in <module> image_id = annotation['image_id'] TypeError: string indices must be integers, not 'str'\",\n",
       "  'links': 'https://stackoverflow.com//questions/75629703/line-21-in-module-image-id-annotationimage-id-typeerror-string-indices'},\n",
       " {'title': \"I can't commit, pre-commit doesn't work. How to fix it?\",\n",
       "  'links': 'https://stackoverflow.com//questions/75629688/i-cant-commit-pre-commit-doesnt-work-how-to-fix-it'},\n",
       " {'title': 'Two lists - find all permutations - even multiple to one',\n",
       "  'links': 'https://stackoverflow.com//questions/75629666/two-lists-find-all-permutations-even-multiple-to-one'},\n",
       " {'title': 'How to identify the modified content in a pdf file?',\n",
       "  'links': 'https://stackoverflow.com//questions/75629621/how-to-identify-the-modified-content-in-a-pdf-file'},\n",
       " {'title': 'How to merge tons of files in Pandas and organize them by date',\n",
       "  'links': 'https://stackoverflow.com//questions/75629617/how-to-merge-tons-of-files-in-pandas-and-organize-them-by-date'},\n",
       " {'title': 'Type Hints implementation for multiple Python versions',\n",
       "  'links': 'https://stackoverflow.com//questions/75629604/type-hints-implementation-for-multiple-python-versions'},\n",
       " {'title': 'find specific data in text with python and regex [duplicate]',\n",
       "  'links': 'https://stackoverflow.com//questions/75629593/find-specific-data-in-text-with-python-and-regex'},\n",
       " {'title': 'Plotting implicit function using fsolve',\n",
       "  'links': 'https://stackoverflow.com//questions/75629592/plotting-implicit-function-using-fsolve'},\n",
       " {'title': 'Formating the tittle of a graph that has varabiles and latex',\n",
       "  'links': 'https://stackoverflow.com//questions/75629587/formating-the-tittle-of-a-graph-that-has-varabiles-and-latex'},\n",
       " {'title': 'Does the Python time.process_time() function work properly on Windows?',\n",
       "  'links': 'https://stackoverflow.com//questions/75629575/does-the-python-time-process-time-function-work-properly-on-windows'},\n",
       " {'title': 'Environment management in databricks for chromedriver w/selenium',\n",
       "  'links': 'https://stackoverflow.com//questions/75629558/environment-management-in-databricks-for-chromedriver-w-selenium'},\n",
       " {'title': 'Not getting Output as expected in Longest Common Increasing Sequence problem',\n",
       "  'links': 'https://stackoverflow.com//questions/75629525/not-getting-output-as-expected-in-longest-common-increasing-sequence-problem'}]"
      ]
     },
     "execution_count": 3,
     "metadata": {},
     "output_type": "execute_result"
    }
   ],
   "source": [
    "results"
   ]
  },
  {
   "cell_type": "code",
   "execution_count": 4,
   "id": "3e331bea",
   "metadata": {},
   "outputs": [
    {
     "data": {
      "text/plain": [
       "{'title': 'Initialize fsspec DirFileSystem from a URL',\n",
       " 'links': 'https://stackoverflow.com//questions/75630145/initialize-fsspec-dirfilesystem-from-a-url'}"
      ]
     },
     "execution_count": 4,
     "metadata": {},
     "output_type": "execute_result"
    }
   ],
   "source": [
    "results[0]"
   ]
  },
  {
   "cell_type": "code",
   "execution_count": 5,
   "id": "dfdaab3e",
   "metadata": {},
   "outputs": [
    {
     "data": {
      "text/plain": [
       "'Initialize fsspec DirFileSystem from a URL'"
      ]
     },
     "execution_count": 5,
     "metadata": {},
     "output_type": "execute_result"
    }
   ],
   "source": [
    "results[0]['title']"
   ]
  },
  {
   "cell_type": "code",
   "execution_count": 6,
   "id": "0582c24f",
   "metadata": {},
   "outputs": [
    {
     "data": {
      "text/plain": [
       "'https://stackoverflow.com//questions/75630145/initialize-fsspec-dirfilesystem-from-a-url'"
      ]
     },
     "execution_count": 6,
     "metadata": {},
     "output_type": "execute_result"
    }
   ],
   "source": [
    "results[0]['links']"
   ]
  },
  {
   "cell_type": "code",
   "execution_count": null,
   "id": "3d2bef8e",
   "metadata": {},
   "outputs": [],
   "source": [
    "import requests\n",
    "from bs4 import BeautifulSoup\n",
    "for page in range(1,42271):\n",
    "    start_url = requests.get(f\"https://stackoverflow.com/questions/tagged/python?tab=newest&page={page}&pagesize=15%22\")\n",
    "    content = BeautifulSoup(start_url.text, 'lxml')\n",
    "    questions = content.find_all('div', {'class':'s-post-summary js-post-summary' })\n",
    "    for item in questions:\n",
    "                title = item.find('a', {'class': 's-link'}).text\n",
    "                links = 'https://stackoverflow.com/' + item.find('a', {'class': 's-link'})['href']\n",
    "                context = {'title': title, 'links':links}\n",
    "                results.append(context)\n",
    "                print(f'page scraped: {page}')\n",
    "    print(len(results))"
   ]
  },
  {
   "cell_type": "code",
   "execution_count": 7,
   "id": "80730f16",
   "metadata": {},
   "outputs": [
    {
     "data": {
      "text/html": [
       "<div>\n",
       "<style scoped>\n",
       "    .dataframe tbody tr th:only-of-type {\n",
       "        vertical-align: middle;\n",
       "    }\n",
       "\n",
       "    .dataframe tbody tr th {\n",
       "        vertical-align: top;\n",
       "    }\n",
       "\n",
       "    .dataframe thead th {\n",
       "        text-align: right;\n",
       "    }\n",
       "</style>\n",
       "<table border=\"1\" class=\"dataframe\">\n",
       "  <thead>\n",
       "    <tr style=\"text-align: right;\">\n",
       "      <th></th>\n",
       "      <th>title</th>\n",
       "      <th>links</th>\n",
       "    </tr>\n",
       "  </thead>\n",
       "  <tbody>\n",
       "    <tr>\n",
       "      <th>0</th>\n",
       "      <td>Replacing a sympy matrix symbol in a sum of it...</td>\n",
       "      <td>https://stackoverflow.com//questions/75511124/...</td>\n",
       "    </tr>\n",
       "    <tr>\n",
       "      <th>1</th>\n",
       "      <td>TypeError: Cursor.callproc() takes from 2 to 3...</td>\n",
       "      <td>https://stackoverflow.com//questions/75511117/...</td>\n",
       "    </tr>\n",
       "    <tr>\n",
       "      <th>2</th>\n",
       "      <td>I am attempting to make a system that uses my ...</td>\n",
       "      <td>https://stackoverflow.com//questions/75511101/...</td>\n",
       "    </tr>\n",
       "    <tr>\n",
       "      <th>3</th>\n",
       "      <td>Why does my clean function from cleantext modu...</td>\n",
       "      <td>https://stackoverflow.com//questions/75511068/...</td>\n",
       "    </tr>\n",
       "    <tr>\n",
       "      <th>4</th>\n",
       "      <td>(Windows) Writing a script that needs to know ...</td>\n",
       "      <td>https://stackoverflow.com//questions/75511059/...</td>\n",
       "    </tr>\n",
       "    <tr>\n",
       "      <th>...</th>\n",
       "      <td>...</td>\n",
       "      <td>...</td>\n",
       "    </tr>\n",
       "    <tr>\n",
       "      <th>1511429</th>\n",
       "      <td>WSGI Middleware recommendations [closed]</td>\n",
       "      <td>https://stackoverflow.com//questions/178001/ws...</td>\n",
       "    </tr>\n",
       "    <tr>\n",
       "      <th>1511430</th>\n",
       "      <td>Accessing python egg's own metadata</td>\n",
       "      <td>https://stackoverflow.com//questions/177910/ac...</td>\n",
       "    </tr>\n",
       "    <tr>\n",
       "      <th>1511431</th>\n",
       "      <td>Keeping filters in Django Admin</td>\n",
       "      <td>https://stackoverflow.com//questions/177492/ke...</td>\n",
       "    </tr>\n",
       "    <tr>\n",
       "      <th>1511432</th>\n",
       "      <td>Testing socket connection in Python</td>\n",
       "      <td>https://stackoverflow.com//questions/177389/te...</td>\n",
       "    </tr>\n",
       "    <tr>\n",
       "      <th>1511433</th>\n",
       "      <td>Alert boxes in Python?</td>\n",
       "      <td>https://stackoverflow.com//questions/177287/al...</td>\n",
       "    </tr>\n",
       "  </tbody>\n",
       "</table>\n",
       "<p>1511434 rows × 2 columns</p>\n",
       "</div>"
      ],
      "text/plain": [
       "                                                     title  \\\n",
       "0        Replacing a sympy matrix symbol in a sum of it...   \n",
       "1        TypeError: Cursor.callproc() takes from 2 to 3...   \n",
       "2        I am attempting to make a system that uses my ...   \n",
       "3        Why does my clean function from cleantext modu...   \n",
       "4        (Windows) Writing a script that needs to know ...   \n",
       "...                                                    ...   \n",
       "1511429           WSGI Middleware recommendations [closed]   \n",
       "1511430                Accessing python egg's own metadata   \n",
       "1511431                    Keeping filters in Django Admin   \n",
       "1511432                Testing socket connection in Python   \n",
       "1511433                             Alert boxes in Python?   \n",
       "\n",
       "                                                     links  \n",
       "0        https://stackoverflow.com//questions/75511124/...  \n",
       "1        https://stackoverflow.com//questions/75511117/...  \n",
       "2        https://stackoverflow.com//questions/75511101/...  \n",
       "3        https://stackoverflow.com//questions/75511068/...  \n",
       "4        https://stackoverflow.com//questions/75511059/...  \n",
       "...                                                    ...  \n",
       "1511429  https://stackoverflow.com//questions/178001/ws...  \n",
       "1511430  https://stackoverflow.com//questions/177910/ac...  \n",
       "1511431  https://stackoverflow.com//questions/177492/ke...  \n",
       "1511432  https://stackoverflow.com//questions/177389/te...  \n",
       "1511433  https://stackoverflow.com//questions/177287/al...  \n",
       "\n",
       "[1511434 rows x 2 columns]"
      ]
     },
     "execution_count": 7,
     "metadata": {},
     "output_type": "execute_result"
    }
   ],
   "source": [
    "import pandas as pd\n",
    "#df=pd.DataFrame(results)\n",
    "#df=df.drop_duplicates()\n",
    "#df.to_csv('1_42271.csv',index=False)\n",
    "df=pd.read_csv('1_42271.csv')\n",
    "df"
   ]
  },
  {
   "cell_type": "code",
   "execution_count": 8,
   "id": "d8e8ff11",
   "metadata": {},
   "outputs": [
    {
     "data": {
      "text/plain": [
       "1404"
      ]
     },
     "execution_count": 8,
     "metadata": {},
     "output_type": "execute_result"
    }
   ],
   "source": [
    "yaml=df.loc[df['title'].str.contains('yaml|YAML|Yaml')]\n",
    "len(yaml)"
   ]
  },
  {
   "cell_type": "code",
   "execution_count": 9,
   "id": "4520d4a0",
   "metadata": {},
   "outputs": [
    {
     "data": {
      "text/plain": [
       "9660"
      ]
     },
     "execution_count": 9,
     "metadata": {},
     "output_type": "execute_result"
    }
   ],
   "source": [
    "xml=df.loc[df['title'].str.contains('xml|XML|Xml')]\n",
    "len(xml)"
   ]
  },
  {
   "cell_type": "code",
   "execution_count": 10,
   "id": "f6e17d22",
   "metadata": {},
   "outputs": [
    {
     "data": {
      "text/plain": [
       "23478"
      ]
     },
     "execution_count": 10,
     "metadata": {},
     "output_type": "execute_result"
    }
   ],
   "source": [
    "json=df.loc[df['title'].str.contains('json|JSON|Json')]\n",
    "len(json)"
   ]
  },
  {
   "cell_type": "code",
   "execution_count": 11,
   "id": "716546a9",
   "metadata": {},
   "outputs": [
    {
     "data": {
      "text/plain": [
       "93"
      ]
     },
     "execution_count": 11,
     "metadata": {},
     "output_type": "execute_result"
    }
   ],
   "source": [
    "netmiko=df.loc[df['title'].str.contains('netmiko|NETMIKO|Netmiko')]\n",
    "len(netmiko)"
   ]
  },
  {
   "cell_type": "code",
   "execution_count": 12,
   "id": "a808c6ae",
   "metadata": {},
   "outputs": [
    {
     "data": {
      "text/plain": [
       "1161"
      ]
     },
     "execution_count": 12,
     "metadata": {},
     "output_type": "execute_result"
    }
   ],
   "source": [
    "paramiko=df.loc[df['title'].str.contains('paramiko|PARAMIKO|Paramiko')]\n",
    "len(paramiko)"
   ]
  },
  {
   "cell_type": "code",
   "execution_count": 13,
   "id": "2b6b2f39",
   "metadata": {},
   "outputs": [
    {
     "data": {
      "text/plain": [
       "2"
      ]
     },
     "execution_count": 13,
     "metadata": {},
     "output_type": "execute_result"
    }
   ],
   "source": [
    "RESTCONF=df.loc[df['title'].str.contains('restconf|RESTCONF|Restconf')]\n",
    "len(RESTCONF)"
   ]
  },
  {
   "cell_type": "code",
   "execution_count": 14,
   "id": "d4f5272c",
   "metadata": {},
   "outputs": [
    {
     "data": {
      "text/plain": [
       "6"
      ]
     },
     "execution_count": 14,
     "metadata": {},
     "output_type": "execute_result"
    }
   ],
   "source": [
    "NETCONF=df.loc[df['title'].str.contains('netconf|NETCONF|Netconf')]\n",
    "len(NETCONF)"
   ]
  },
  {
   "cell_type": "code",
   "execution_count": 15,
   "id": "7a58e91c",
   "metadata": {},
   "outputs": [
    {
     "data": {
      "text/plain": [
       "6"
      ]
     },
     "execution_count": 15,
     "metadata": {},
     "output_type": "execute_result"
    }
   ],
   "source": [
    "ncclient=df.loc[df['title'].str.contains('ncclient|NCCLIENT|Ncclient')]\n",
    "len(ncclient)"
   ]
  },
  {
   "cell_type": "code",
   "execution_count": 16,
   "id": "294e6f39",
   "metadata": {},
   "outputs": [
    {
     "data": {
      "text/plain": [
       "8812"
      ]
     },
     "execution_count": 16,
     "metadata": {},
     "output_type": "execute_result"
    }
   ],
   "source": [
    "requests=df.loc[df['title'].str.contains('requests|REQUESTS|Requests')]\n",
    "len(requests)"
   ]
  },
  {
   "cell_type": "code",
   "execution_count": 17,
   "id": "68eb1503",
   "metadata": {},
   "outputs": [
    {
     "data": {
      "text/plain": [
       "1"
      ]
     },
     "execution_count": 17,
     "metadata": {},
     "output_type": "execute_result"
    }
   ],
   "source": [
    "PYTHON_NXAPI=df.loc[df['title'].str.contains('python nx-api|PYTHON NXAPI|Python Nx-Api')]\n",
    "len(PYTHON_NXAPI)"
   ]
  },
  {
   "cell_type": "code",
   "execution_count": 18,
   "id": "245b5f19",
   "metadata": {},
   "outputs": [
    {
     "data": {
      "text/plain": [
       "309"
      ]
     },
     "execution_count": 18,
     "metadata": {},
     "output_type": "execute_result"
    }
   ],
   "source": [
    "postman=df.loc[df['title'].str.contains('postman|POSTMAN|Postman')]\n",
    "len(postman)"
   ]
  },
  {
   "cell_type": "code",
   "execution_count": 19,
   "id": "d12af9b2",
   "metadata": {},
   "outputs": [
    {
     "data": {
      "text/plain": [
       "5"
      ]
     },
     "execution_count": 19,
     "metadata": {},
     "output_type": "execute_result"
    }
   ],
   "source": [
    "pyats=df.loc[df['title'].str.contains('pyats|PYATS|Pyats')]\n",
    "len(pyats)"
   ]
  },
  {
   "cell_type": "code",
   "execution_count": 20,
   "id": "ea78511c",
   "metadata": {},
   "outputs": [
    {
     "data": {
      "text/plain": [
       "9"
      ]
     },
     "execution_count": 20,
     "metadata": {},
     "output_type": "execute_result"
    }
   ],
   "source": [
    "napalm=df.loc[df['title'].str.contains('napalm|NAPALM|Napalm')]\n",
    "len(napalm)"
   ]
  },
  {
   "cell_type": "code",
   "execution_count": 21,
   "id": "8ed8cbc2",
   "metadata": {},
   "outputs": [
    {
     "data": {
      "text/plain": [
       "1915"
      ]
     },
     "execution_count": 21,
     "metadata": {},
     "output_type": "execute_result"
    }
   ],
   "source": [
    "ssh=df.loc[df['title'].str.contains('ssh|SSH|Ssh')]\n",
    "len(ssh)"
   ]
  },
  {
   "cell_type": "code",
   "execution_count": 22,
   "id": "744cceb6",
   "metadata": {},
   "outputs": [
    {
     "data": {
      "text/plain": [
       "1404"
      ]
     },
     "execution_count": 22,
     "metadata": {},
     "output_type": "execute_result"
    }
   ],
   "source": [
    "https=df.loc[df['title'].str.contains('https|HTTPS|Https')]\n",
    "len(https)"
   ]
  },
  {
   "cell_type": "code",
   "execution_count": 23,
   "id": "d93cb90a",
   "metadata": {},
   "outputs": [
    {
     "data": {
      "text/plain": [
       "7873"
      ]
     },
     "execution_count": 23,
     "metadata": {},
     "output_type": "execute_result"
    }
   ],
   "source": [
    "socket=df.loc[df['title'].str.contains('socket|SOCKET|Socket')]\n",
    "len(socket)"
   ]
  },
  {
   "cell_type": "code",
   "execution_count": 24,
   "id": "acafbf00",
   "metadata": {},
   "outputs": [
    {
     "data": {
      "text/plain": [
       "7841"
      ]
     },
     "execution_count": 24,
     "metadata": {},
     "output_type": "execute_result"
    }
   ],
   "source": [
    "http=df.loc[df['title'].str.contains('http|HTTP|Http')]\n",
    "len(http)"
   ]
  },
  {
   "cell_type": "code",
   "execution_count": 25,
   "id": "45507f3c",
   "metadata": {},
   "outputs": [
    {
     "data": {
      "text/plain": [
       "11"
      ]
     },
     "execution_count": 25,
     "metadata": {},
     "output_type": "execute_result"
    }
   ],
   "source": [
    "yang=df.loc[df['title'].str.contains('yang|YANG|Yang')]\n",
    "len(yang)"
   ]
  },
  {
   "cell_type": "code",
   "execution_count": 26,
   "id": "f5120956",
   "metadata": {},
   "outputs": [
    {
     "data": {
      "text/plain": [
       "821"
      ]
     },
     "execution_count": 26,
     "metadata": {},
     "output_type": "execute_result"
    }
   ],
   "source": [
    "ansible=df.loc[df['title'].str.contains('ansible|ANSIBLE|Ansible')]\n",
    "len(ansible)"
   ]
  },
  {
   "cell_type": "code",
   "execution_count": 27,
   "id": "0a55352b",
   "metadata": {},
   "outputs": [
    {
     "data": {
      "text/plain": [
       "4"
      ]
     },
     "execution_count": 27,
     "metadata": {},
     "output_type": "execute_result"
    }
   ],
   "source": [
    "textfsm=df.loc[df['title'].str.contains('textfsm|TEXTFSM|Textfsm|text-fsm|TEXT FSM|text fsm|Text-FSM|TEXT-FSM')]\n",
    "len(textfsm)"
   ]
  },
  {
   "cell_type": "code",
   "execution_count": 28,
   "id": "1520694f",
   "metadata": {},
   "outputs": [
    {
     "data": {
      "text/plain": [
       "12372"
      ]
     },
     "execution_count": 28,
     "metadata": {},
     "output_type": "execute_result"
    }
   ],
   "source": [
    "regex=df.loc[df['title'].str.contains('regex|REGEX|Regex')]\n",
    "len(regex)"
   ]
  },
  {
   "cell_type": "code",
   "execution_count": 29,
   "id": "c88cc3e7",
   "metadata": {},
   "outputs": [
    {
     "data": {
      "text/plain": [
       "2153"
      ]
     },
     "execution_count": 29,
     "metadata": {},
     "output_type": "execute_result"
    }
   ],
   "source": [
    "jinja=df.loc[df['title'].str.contains('jinja|JINJA|Jinja')]\n",
    "len(jinja)"
   ]
  },
  {
   "cell_type": "code",
   "execution_count": 30,
   "id": "9eaa135c",
   "metadata": {},
   "outputs": [
    {
     "data": {
      "text/plain": [
       "10147"
      ]
     },
     "execution_count": 30,
     "metadata": {},
     "output_type": "execute_result"
    }
   ],
   "source": [
    "excel=df.loc[df['title'].str.contains('excel|EXCEL|Excel')]\n",
    "len(excel)"
   ]
  },
  {
   "cell_type": "code",
   "execution_count": 31,
   "id": "36258133",
   "metadata": {},
   "outputs": [
    {
     "data": {
      "text/plain": [
       "25975"
      ]
     },
     "execution_count": 31,
     "metadata": {},
     "output_type": "execute_result"
    }
   ],
   "source": [
    "CSV=df.loc[df['title'].str.contains('csv|CSV|Csv')]\n",
    "len(CSV)"
   ]
  },
  {
   "cell_type": "code",
   "execution_count": 32,
   "id": "06905773",
   "metadata": {},
   "outputs": [
    {
     "data": {
      "text/plain": [
       "19"
      ]
     },
     "execution_count": 32,
     "metadata": {},
     "output_type": "execute_result"
    }
   ],
   "source": [
    "NXAPI=df.loc[df['title'].str.contains('nx-api|NXAPI|Nx-Api|nxapi|NX-API')]\n",
    "len(NXAPI)"
   ]
  },
  {
   "cell_type": "code",
   "execution_count": 33,
   "id": "6776f7f9",
   "metadata": {},
   "outputs": [
    {
     "name": "stdout",
     "output_type": "stream",
     "text": [
      "<class 'pandas.core.frame.DataFrame'>\n",
      "RangeIndex: 11064 entries, 0 to 11063\n",
      "Data columns (total 2 columns):\n",
      " #   Column  Non-Null Count  Dtype \n",
      "---  ------  --------------  ----- \n",
      " 0   title   11064 non-null  object\n",
      " 1   links   11064 non-null  object\n",
      "dtypes: object(2)\n",
      "memory usage: 173.0+ KB\n"
     ]
    },
    {
     "name": "stderr",
     "output_type": "stream",
     "text": [
      "C:\\Users\\TR\\AppData\\Local\\Temp\\ipykernel_17308\\2266978405.py:1: FutureWarning: The frame.append method is deprecated and will be removed from pandas in a future version. Use pandas.concat instead.\n",
      "  df2=yaml.append(xml,ignore_index=True)\n"
     ]
    }
   ],
   "source": [
    "df2=yaml.append(xml,ignore_index=True)\n",
    "df2.info()"
   ]
  },
  {
   "cell_type": "code",
   "execution_count": 34,
   "id": "cf9cad96",
   "metadata": {},
   "outputs": [
    {
     "name": "stdout",
     "output_type": "stream",
     "text": [
      "<class 'pandas.core.frame.DataFrame'>\n",
      "RangeIndex: 34542 entries, 0 to 34541\n",
      "Data columns (total 2 columns):\n",
      " #   Column  Non-Null Count  Dtype \n",
      "---  ------  --------------  ----- \n",
      " 0   title   34542 non-null  object\n",
      " 1   links   34542 non-null  object\n",
      "dtypes: object(2)\n",
      "memory usage: 539.8+ KB\n"
     ]
    },
    {
     "name": "stderr",
     "output_type": "stream",
     "text": [
      "C:\\Users\\TR\\AppData\\Local\\Temp\\ipykernel_17308\\3933575154.py:1: FutureWarning: The frame.append method is deprecated and will be removed from pandas in a future version. Use pandas.concat instead.\n",
      "  df2=df2.append(json,ignore_index=True)\n"
     ]
    }
   ],
   "source": [
    "df2=df2.append(json,ignore_index=True)\n",
    "df2.info()"
   ]
  },
  {
   "cell_type": "code",
   "execution_count": 35,
   "id": "01caf164",
   "metadata": {},
   "outputs": [
    {
     "name": "stdout",
     "output_type": "stream",
     "text": [
      "<class 'pandas.core.frame.DataFrame'>\n",
      "RangeIndex: 34635 entries, 0 to 34634\n",
      "Data columns (total 2 columns):\n",
      " #   Column  Non-Null Count  Dtype \n",
      "---  ------  --------------  ----- \n",
      " 0   title   34635 non-null  object\n",
      " 1   links   34635 non-null  object\n",
      "dtypes: object(2)\n",
      "memory usage: 541.3+ KB\n"
     ]
    },
    {
     "name": "stderr",
     "output_type": "stream",
     "text": [
      "C:\\Users\\TR\\AppData\\Local\\Temp\\ipykernel_17308\\1613621169.py:1: FutureWarning: The frame.append method is deprecated and will be removed from pandas in a future version. Use pandas.concat instead.\n",
      "  df2=df2.append(netmiko,ignore_index=True)\n"
     ]
    }
   ],
   "source": [
    "df2=df2.append(netmiko,ignore_index=True)\n",
    "df2.info()"
   ]
  },
  {
   "cell_type": "code",
   "execution_count": 36,
   "id": "e4e3a0dc",
   "metadata": {},
   "outputs": [
    {
     "name": "stdout",
     "output_type": "stream",
     "text": [
      "<class 'pandas.core.frame.DataFrame'>\n",
      "RangeIndex: 35796 entries, 0 to 35795\n",
      "Data columns (total 2 columns):\n",
      " #   Column  Non-Null Count  Dtype \n",
      "---  ------  --------------  ----- \n",
      " 0   title   35796 non-null  object\n",
      " 1   links   35796 non-null  object\n",
      "dtypes: object(2)\n",
      "memory usage: 559.4+ KB\n"
     ]
    },
    {
     "name": "stderr",
     "output_type": "stream",
     "text": [
      "C:\\Users\\TR\\AppData\\Local\\Temp\\ipykernel_17308\\109466099.py:1: FutureWarning: The frame.append method is deprecated and will be removed from pandas in a future version. Use pandas.concat instead.\n",
      "  df2=df2.append(paramiko,ignore_index=True)\n"
     ]
    }
   ],
   "source": [
    "df2=df2.append(paramiko,ignore_index=True)\n",
    "df2.info()"
   ]
  },
  {
   "cell_type": "code",
   "execution_count": 37,
   "id": "52a5386b",
   "metadata": {},
   "outputs": [
    {
     "name": "stdout",
     "output_type": "stream",
     "text": [
      "<class 'pandas.core.frame.DataFrame'>\n",
      "RangeIndex: 35798 entries, 0 to 35797\n",
      "Data columns (total 2 columns):\n",
      " #   Column  Non-Null Count  Dtype \n",
      "---  ------  --------------  ----- \n",
      " 0   title   35798 non-null  object\n",
      " 1   links   35798 non-null  object\n",
      "dtypes: object(2)\n",
      "memory usage: 559.5+ KB\n"
     ]
    },
    {
     "name": "stderr",
     "output_type": "stream",
     "text": [
      "C:\\Users\\TR\\AppData\\Local\\Temp\\ipykernel_17308\\3531757020.py:1: FutureWarning: The frame.append method is deprecated and will be removed from pandas in a future version. Use pandas.concat instead.\n",
      "  df2=df2.append(RESTCONF,ignore_index=True)\n"
     ]
    }
   ],
   "source": [
    "df2=df2.append(RESTCONF,ignore_index=True)\n",
    "df2.info()"
   ]
  },
  {
   "cell_type": "code",
   "execution_count": 38,
   "id": "a7f774ca",
   "metadata": {},
   "outputs": [
    {
     "name": "stdout",
     "output_type": "stream",
     "text": [
      "<class 'pandas.core.frame.DataFrame'>\n",
      "RangeIndex: 35804 entries, 0 to 35803\n",
      "Data columns (total 2 columns):\n",
      " #   Column  Non-Null Count  Dtype \n",
      "---  ------  --------------  ----- \n",
      " 0   title   35804 non-null  object\n",
      " 1   links   35804 non-null  object\n",
      "dtypes: object(2)\n",
      "memory usage: 559.6+ KB\n"
     ]
    },
    {
     "name": "stderr",
     "output_type": "stream",
     "text": [
      "C:\\Users\\TR\\AppData\\Local\\Temp\\ipykernel_17308\\600121486.py:1: FutureWarning: The frame.append method is deprecated and will be removed from pandas in a future version. Use pandas.concat instead.\n",
      "  df2=df2.append(NETCONF,ignore_index=True)\n"
     ]
    }
   ],
   "source": [
    "df2=df2.append(NETCONF,ignore_index=True)\n",
    "df2.info()"
   ]
  },
  {
   "cell_type": "code",
   "execution_count": 39,
   "id": "3adef55c",
   "metadata": {},
   "outputs": [
    {
     "name": "stdout",
     "output_type": "stream",
     "text": [
      "<class 'pandas.core.frame.DataFrame'>\n",
      "RangeIndex: 35810 entries, 0 to 35809\n",
      "Data columns (total 2 columns):\n",
      " #   Column  Non-Null Count  Dtype \n",
      "---  ------  --------------  ----- \n",
      " 0   title   35810 non-null  object\n",
      " 1   links   35810 non-null  object\n",
      "dtypes: object(2)\n",
      "memory usage: 559.7+ KB\n"
     ]
    },
    {
     "name": "stderr",
     "output_type": "stream",
     "text": [
      "C:\\Users\\TR\\AppData\\Local\\Temp\\ipykernel_17308\\3910573359.py:1: FutureWarning: The frame.append method is deprecated and will be removed from pandas in a future version. Use pandas.concat instead.\n",
      "  df2=df2.append(ncclient,ignore_index=True)\n"
     ]
    }
   ],
   "source": [
    "df2=df2.append(ncclient,ignore_index=True)\n",
    "df2.info()"
   ]
  },
  {
   "cell_type": "code",
   "execution_count": 40,
   "id": "dc3a1fd6",
   "metadata": {},
   "outputs": [
    {
     "name": "stdout",
     "output_type": "stream",
     "text": [
      "<class 'pandas.core.frame.DataFrame'>\n",
      "RangeIndex: 44622 entries, 0 to 44621\n",
      "Data columns (total 2 columns):\n",
      " #   Column  Non-Null Count  Dtype \n",
      "---  ------  --------------  ----- \n",
      " 0   title   44622 non-null  object\n",
      " 1   links   44622 non-null  object\n",
      "dtypes: object(2)\n",
      "memory usage: 697.3+ KB\n"
     ]
    },
    {
     "name": "stderr",
     "output_type": "stream",
     "text": [
      "C:\\Users\\TR\\AppData\\Local\\Temp\\ipykernel_17308\\888533061.py:1: FutureWarning: The frame.append method is deprecated and will be removed from pandas in a future version. Use pandas.concat instead.\n",
      "  df2=df2.append(requests,ignore_index=True)\n"
     ]
    }
   ],
   "source": [
    "df2=df2.append(requests,ignore_index=True)\n",
    "df2.info()"
   ]
  },
  {
   "cell_type": "code",
   "execution_count": 41,
   "id": "45ec689b",
   "metadata": {},
   "outputs": [
    {
     "name": "stdout",
     "output_type": "stream",
     "text": [
      "<class 'pandas.core.frame.DataFrame'>\n",
      "RangeIndex: 44623 entries, 0 to 44622\n",
      "Data columns (total 2 columns):\n",
      " #   Column  Non-Null Count  Dtype \n",
      "---  ------  --------------  ----- \n",
      " 0   title   44623 non-null  object\n",
      " 1   links   44623 non-null  object\n",
      "dtypes: object(2)\n",
      "memory usage: 697.4+ KB\n"
     ]
    },
    {
     "name": "stderr",
     "output_type": "stream",
     "text": [
      "C:\\Users\\TR\\AppData\\Local\\Temp\\ipykernel_17308\\4259637820.py:1: FutureWarning: The frame.append method is deprecated and will be removed from pandas in a future version. Use pandas.concat instead.\n",
      "  df2=df2.append(PYTHON_NXAPI,ignore_index=True)\n"
     ]
    }
   ],
   "source": [
    "df2=df2.append(PYTHON_NXAPI,ignore_index=True)\n",
    "df2.info()"
   ]
  },
  {
   "cell_type": "code",
   "execution_count": 42,
   "id": "c93e1e73",
   "metadata": {},
   "outputs": [
    {
     "name": "stdout",
     "output_type": "stream",
     "text": [
      "<class 'pandas.core.frame.DataFrame'>\n",
      "RangeIndex: 44932 entries, 0 to 44931\n",
      "Data columns (total 2 columns):\n",
      " #   Column  Non-Null Count  Dtype \n",
      "---  ------  --------------  ----- \n",
      " 0   title   44932 non-null  object\n",
      " 1   links   44932 non-null  object\n",
      "dtypes: object(2)\n",
      "memory usage: 702.2+ KB\n"
     ]
    },
    {
     "name": "stderr",
     "output_type": "stream",
     "text": [
      "C:\\Users\\TR\\AppData\\Local\\Temp\\ipykernel_17308\\1277121521.py:1: FutureWarning: The frame.append method is deprecated and will be removed from pandas in a future version. Use pandas.concat instead.\n",
      "  df2=df2.append(postman,ignore_index=True)\n"
     ]
    }
   ],
   "source": [
    "df2=df2.append(postman,ignore_index=True)\n",
    "df2.info()"
   ]
  },
  {
   "cell_type": "code",
   "execution_count": 43,
   "id": "bd850ea2",
   "metadata": {},
   "outputs": [
    {
     "name": "stdout",
     "output_type": "stream",
     "text": [
      "<class 'pandas.core.frame.DataFrame'>\n",
      "RangeIndex: 44937 entries, 0 to 44936\n",
      "Data columns (total 2 columns):\n",
      " #   Column  Non-Null Count  Dtype \n",
      "---  ------  --------------  ----- \n",
      " 0   title   44937 non-null  object\n",
      " 1   links   44937 non-null  object\n",
      "dtypes: object(2)\n",
      "memory usage: 702.3+ KB\n"
     ]
    },
    {
     "name": "stderr",
     "output_type": "stream",
     "text": [
      "C:\\Users\\TR\\AppData\\Local\\Temp\\ipykernel_17308\\1074721745.py:1: FutureWarning: The frame.append method is deprecated and will be removed from pandas in a future version. Use pandas.concat instead.\n",
      "  df2=df2.append(pyats,ignore_index=True)\n"
     ]
    }
   ],
   "source": [
    "df2=df2.append(pyats,ignore_index=True)\n",
    "df2.info()"
   ]
  },
  {
   "cell_type": "code",
   "execution_count": 44,
   "id": "1243f493",
   "metadata": {},
   "outputs": [
    {
     "name": "stdout",
     "output_type": "stream",
     "text": [
      "<class 'pandas.core.frame.DataFrame'>\n",
      "RangeIndex: 44946 entries, 0 to 44945\n",
      "Data columns (total 2 columns):\n",
      " #   Column  Non-Null Count  Dtype \n",
      "---  ------  --------------  ----- \n",
      " 0   title   44946 non-null  object\n",
      " 1   links   44946 non-null  object\n",
      "dtypes: object(2)\n",
      "memory usage: 702.4+ KB\n"
     ]
    },
    {
     "name": "stderr",
     "output_type": "stream",
     "text": [
      "C:\\Users\\TR\\AppData\\Local\\Temp\\ipykernel_17308\\3207899928.py:1: FutureWarning: The frame.append method is deprecated and will be removed from pandas in a future version. Use pandas.concat instead.\n",
      "  df2=df2.append(napalm,ignore_index=True)\n"
     ]
    }
   ],
   "source": [
    "df2=df2.append(napalm,ignore_index=True)\n",
    "df2.info()"
   ]
  },
  {
   "cell_type": "code",
   "execution_count": 45,
   "id": "7d0d84c0",
   "metadata": {},
   "outputs": [
    {
     "name": "stdout",
     "output_type": "stream",
     "text": [
      "<class 'pandas.core.frame.DataFrame'>\n",
      "RangeIndex: 46861 entries, 0 to 46860\n",
      "Data columns (total 2 columns):\n",
      " #   Column  Non-Null Count  Dtype \n",
      "---  ------  --------------  ----- \n",
      " 0   title   46861 non-null  object\n",
      " 1   links   46861 non-null  object\n",
      "dtypes: object(2)\n",
      "memory usage: 732.3+ KB\n"
     ]
    },
    {
     "name": "stderr",
     "output_type": "stream",
     "text": [
      "C:\\Users\\TR\\AppData\\Local\\Temp\\ipykernel_17308\\679119751.py:1: FutureWarning: The frame.append method is deprecated and will be removed from pandas in a future version. Use pandas.concat instead.\n",
      "  df2=df2.append(ssh,ignore_index=True)\n"
     ]
    }
   ],
   "source": [
    "df2=df2.append(ssh,ignore_index=True)\n",
    "df2.info()"
   ]
  },
  {
   "cell_type": "code",
   "execution_count": 46,
   "id": "a17a8dad",
   "metadata": {},
   "outputs": [
    {
     "name": "stdout",
     "output_type": "stream",
     "text": [
      "<class 'pandas.core.frame.DataFrame'>\n",
      "RangeIndex: 48265 entries, 0 to 48264\n",
      "Data columns (total 2 columns):\n",
      " #   Column  Non-Null Count  Dtype \n",
      "---  ------  --------------  ----- \n",
      " 0   title   48265 non-null  object\n",
      " 1   links   48265 non-null  object\n",
      "dtypes: object(2)\n",
      "memory usage: 754.3+ KB\n"
     ]
    },
    {
     "name": "stderr",
     "output_type": "stream",
     "text": [
      "C:\\Users\\TR\\AppData\\Local\\Temp\\ipykernel_17308\\2160235402.py:1: FutureWarning: The frame.append method is deprecated and will be removed from pandas in a future version. Use pandas.concat instead.\n",
      "  df2=df2.append(https,ignore_index=True)\n"
     ]
    }
   ],
   "source": [
    "df2=df2.append(https,ignore_index=True)\n",
    "df2.info()"
   ]
  },
  {
   "cell_type": "code",
   "execution_count": 47,
   "id": "82078a05",
   "metadata": {},
   "outputs": [
    {
     "name": "stdout",
     "output_type": "stream",
     "text": [
      "<class 'pandas.core.frame.DataFrame'>\n",
      "RangeIndex: 56138 entries, 0 to 56137\n",
      "Data columns (total 2 columns):\n",
      " #   Column  Non-Null Count  Dtype \n",
      "---  ------  --------------  ----- \n",
      " 0   title   56138 non-null  object\n",
      " 1   links   56138 non-null  object\n",
      "dtypes: object(2)\n",
      "memory usage: 877.3+ KB\n"
     ]
    },
    {
     "name": "stderr",
     "output_type": "stream",
     "text": [
      "C:\\Users\\TR\\AppData\\Local\\Temp\\ipykernel_17308\\33466376.py:1: FutureWarning: The frame.append method is deprecated and will be removed from pandas in a future version. Use pandas.concat instead.\n",
      "  df2=df2.append(socket,ignore_index=True)\n"
     ]
    }
   ],
   "source": [
    "df2=df2.append(socket,ignore_index=True)\n",
    "df2.info()"
   ]
  },
  {
   "cell_type": "code",
   "execution_count": 48,
   "id": "fcac97d5",
   "metadata": {},
   "outputs": [
    {
     "name": "stdout",
     "output_type": "stream",
     "text": [
      "<class 'pandas.core.frame.DataFrame'>\n",
      "RangeIndex: 63979 entries, 0 to 63978\n",
      "Data columns (total 2 columns):\n",
      " #   Column  Non-Null Count  Dtype \n",
      "---  ------  --------------  ----- \n",
      " 0   title   63979 non-null  object\n",
      " 1   links   63979 non-null  object\n",
      "dtypes: object(2)\n",
      "memory usage: 999.8+ KB\n"
     ]
    },
    {
     "name": "stderr",
     "output_type": "stream",
     "text": [
      "C:\\Users\\TR\\AppData\\Local\\Temp\\ipykernel_17308\\1613868191.py:1: FutureWarning: The frame.append method is deprecated and will be removed from pandas in a future version. Use pandas.concat instead.\n",
      "  df2=df2.append(http,ignore_index=True)\n"
     ]
    }
   ],
   "source": [
    "df2=df2.append(http,ignore_index=True)\n",
    "df2.info()"
   ]
  },
  {
   "cell_type": "code",
   "execution_count": 49,
   "id": "56aa262e",
   "metadata": {},
   "outputs": [
    {
     "name": "stdout",
     "output_type": "stream",
     "text": [
      "<class 'pandas.core.frame.DataFrame'>\n",
      "RangeIndex: 63990 entries, 0 to 63989\n",
      "Data columns (total 2 columns):\n",
      " #   Column  Non-Null Count  Dtype \n",
      "---  ------  --------------  ----- \n",
      " 0   title   63990 non-null  object\n",
      " 1   links   63990 non-null  object\n",
      "dtypes: object(2)\n",
      "memory usage: 1000.0+ KB\n"
     ]
    },
    {
     "name": "stderr",
     "output_type": "stream",
     "text": [
      "C:\\Users\\TR\\AppData\\Local\\Temp\\ipykernel_17308\\2767887034.py:1: FutureWarning: The frame.append method is deprecated and will be removed from pandas in a future version. Use pandas.concat instead.\n",
      "  df2=df2.append(yang,ignore_index=True)\n"
     ]
    }
   ],
   "source": [
    "df2=df2.append(yang,ignore_index=True)\n",
    "df2.info()"
   ]
  },
  {
   "cell_type": "code",
   "execution_count": 50,
   "id": "730f67f2",
   "metadata": {},
   "outputs": [
    {
     "name": "stdout",
     "output_type": "stream",
     "text": [
      "<class 'pandas.core.frame.DataFrame'>\n",
      "RangeIndex: 64811 entries, 0 to 64810\n",
      "Data columns (total 2 columns):\n",
      " #   Column  Non-Null Count  Dtype \n",
      "---  ------  --------------  ----- \n",
      " 0   title   64811 non-null  object\n",
      " 1   links   64811 non-null  object\n",
      "dtypes: object(2)\n",
      "memory usage: 1012.8+ KB\n"
     ]
    },
    {
     "name": "stderr",
     "output_type": "stream",
     "text": [
      "C:\\Users\\TR\\AppData\\Local\\Temp\\ipykernel_17308\\3514755515.py:1: FutureWarning: The frame.append method is deprecated and will be removed from pandas in a future version. Use pandas.concat instead.\n",
      "  df2=df2.append(ansible,ignore_index=True)\n"
     ]
    }
   ],
   "source": [
    "df2=df2.append(ansible,ignore_index=True)\n",
    "df2.info()"
   ]
  },
  {
   "cell_type": "code",
   "execution_count": 51,
   "id": "e706780d",
   "metadata": {},
   "outputs": [
    {
     "name": "stdout",
     "output_type": "stream",
     "text": [
      "<class 'pandas.core.frame.DataFrame'>\n",
      "RangeIndex: 64815 entries, 0 to 64814\n",
      "Data columns (total 2 columns):\n",
      " #   Column  Non-Null Count  Dtype \n",
      "---  ------  --------------  ----- \n",
      " 0   title   64815 non-null  object\n",
      " 1   links   64815 non-null  object\n",
      "dtypes: object(2)\n",
      "memory usage: 1012.9+ KB\n"
     ]
    },
    {
     "name": "stderr",
     "output_type": "stream",
     "text": [
      "C:\\Users\\TR\\AppData\\Local\\Temp\\ipykernel_17308\\3222776270.py:1: FutureWarning: The frame.append method is deprecated and will be removed from pandas in a future version. Use pandas.concat instead.\n",
      "  df2=df2.append(textfsm,ignore_index=True)\n"
     ]
    }
   ],
   "source": [
    "df2=df2.append(textfsm,ignore_index=True)\n",
    "df2.info()"
   ]
  },
  {
   "cell_type": "code",
   "execution_count": 52,
   "id": "d181d17b",
   "metadata": {},
   "outputs": [
    {
     "name": "stdout",
     "output_type": "stream",
     "text": [
      "<class 'pandas.core.frame.DataFrame'>\n",
      "RangeIndex: 77187 entries, 0 to 77186\n",
      "Data columns (total 2 columns):\n",
      " #   Column  Non-Null Count  Dtype \n",
      "---  ------  --------------  ----- \n",
      " 0   title   77187 non-null  object\n",
      " 1   links   77187 non-null  object\n",
      "dtypes: object(2)\n",
      "memory usage: 1.2+ MB\n"
     ]
    },
    {
     "name": "stderr",
     "output_type": "stream",
     "text": [
      "C:\\Users\\TR\\AppData\\Local\\Temp\\ipykernel_17308\\1093995434.py:1: FutureWarning: The frame.append method is deprecated and will be removed from pandas in a future version. Use pandas.concat instead.\n",
      "  df2=df2.append(regex,ignore_index=True)\n"
     ]
    }
   ],
   "source": [
    "df2=df2.append(regex,ignore_index=True)\n",
    "df2.info()"
   ]
  },
  {
   "cell_type": "code",
   "execution_count": 53,
   "id": "f1368aba",
   "metadata": {},
   "outputs": [
    {
     "name": "stdout",
     "output_type": "stream",
     "text": [
      "<class 'pandas.core.frame.DataFrame'>\n",
      "RangeIndex: 79340 entries, 0 to 79339\n",
      "Data columns (total 2 columns):\n",
      " #   Column  Non-Null Count  Dtype \n",
      "---  ------  --------------  ----- \n",
      " 0   title   79340 non-null  object\n",
      " 1   links   79340 non-null  object\n",
      "dtypes: object(2)\n",
      "memory usage: 1.2+ MB\n"
     ]
    },
    {
     "name": "stderr",
     "output_type": "stream",
     "text": [
      "C:\\Users\\TR\\AppData\\Local\\Temp\\ipykernel_17308\\329521690.py:1: FutureWarning: The frame.append method is deprecated and will be removed from pandas in a future version. Use pandas.concat instead.\n",
      "  df2=df2.append(jinja,ignore_index=True)\n"
     ]
    }
   ],
   "source": [
    "df2=df2.append(jinja,ignore_index=True)\n",
    "df2.info()"
   ]
  },
  {
   "cell_type": "code",
   "execution_count": 54,
   "id": "d758ad40",
   "metadata": {},
   "outputs": [
    {
     "name": "stdout",
     "output_type": "stream",
     "text": [
      "<class 'pandas.core.frame.DataFrame'>\n",
      "RangeIndex: 89487 entries, 0 to 89486\n",
      "Data columns (total 2 columns):\n",
      " #   Column  Non-Null Count  Dtype \n",
      "---  ------  --------------  ----- \n",
      " 0   title   89487 non-null  object\n",
      " 1   links   89487 non-null  object\n",
      "dtypes: object(2)\n",
      "memory usage: 1.4+ MB\n"
     ]
    },
    {
     "name": "stderr",
     "output_type": "stream",
     "text": [
      "C:\\Users\\TR\\AppData\\Local\\Temp\\ipykernel_17308\\3762738855.py:1: FutureWarning: The frame.append method is deprecated and will be removed from pandas in a future version. Use pandas.concat instead.\n",
      "  df2=df2.append(excel,ignore_index=True)\n"
     ]
    }
   ],
   "source": [
    "df2=df2.append(excel,ignore_index=True)\n",
    "df2.info()"
   ]
  },
  {
   "cell_type": "code",
   "execution_count": 55,
   "id": "6d482669",
   "metadata": {},
   "outputs": [
    {
     "name": "stdout",
     "output_type": "stream",
     "text": [
      "<class 'pandas.core.frame.DataFrame'>\n",
      "RangeIndex: 115462 entries, 0 to 115461\n",
      "Data columns (total 2 columns):\n",
      " #   Column  Non-Null Count   Dtype \n",
      "---  ------  --------------   ----- \n",
      " 0   title   115462 non-null  object\n",
      " 1   links   115462 non-null  object\n",
      "dtypes: object(2)\n",
      "memory usage: 1.8+ MB\n"
     ]
    },
    {
     "name": "stderr",
     "output_type": "stream",
     "text": [
      "C:\\Users\\TR\\AppData\\Local\\Temp\\ipykernel_17308\\3430636453.py:1: FutureWarning: The frame.append method is deprecated and will be removed from pandas in a future version. Use pandas.concat instead.\n",
      "  df2=df2.append(CSV,ignore_index=True)\n"
     ]
    }
   ],
   "source": [
    "df2=df2.append(CSV,ignore_index=True)\n",
    "df2.info()"
   ]
  },
  {
   "cell_type": "code",
   "execution_count": 56,
   "id": "e90ae40d",
   "metadata": {},
   "outputs": [
    {
     "name": "stdout",
     "output_type": "stream",
     "text": [
      "<class 'pandas.core.frame.DataFrame'>\n",
      "RangeIndex: 115481 entries, 0 to 115480\n",
      "Data columns (total 2 columns):\n",
      " #   Column  Non-Null Count   Dtype \n",
      "---  ------  --------------   ----- \n",
      " 0   title   115481 non-null  object\n",
      " 1   links   115481 non-null  object\n",
      "dtypes: object(2)\n",
      "memory usage: 1.8+ MB\n"
     ]
    },
    {
     "name": "stderr",
     "output_type": "stream",
     "text": [
      "C:\\Users\\TR\\AppData\\Local\\Temp\\ipykernel_17308\\2770334591.py:1: FutureWarning: The frame.append method is deprecated and will be removed from pandas in a future version. Use pandas.concat instead.\n",
      "  df2=df2.append(NXAPI,ignore_index=True)\n"
     ]
    }
   ],
   "source": [
    "df2=df2.append(NXAPI,ignore_index=True)\n",
    "df2.info()"
   ]
  },
  {
   "cell_type": "code",
   "execution_count": 57,
   "id": "a1b2aa11",
   "metadata": {},
   "outputs": [
    {
     "name": "stdout",
     "output_type": "stream",
     "text": [
      "<class 'pandas.core.frame.DataFrame'>\n",
      "Int64Index: 109036 entries, 0 to 115480\n",
      "Data columns (total 2 columns):\n",
      " #   Column  Non-Null Count   Dtype \n",
      "---  ------  --------------   ----- \n",
      " 0   title   109036 non-null  object\n",
      " 1   links   109036 non-null  object\n",
      "dtypes: object(2)\n",
      "memory usage: 2.5+ MB\n"
     ]
    }
   ],
   "source": [
    "df2=df2.drop_duplicates()\n",
    "df2.info()"
   ]
  },
  {
   "cell_type": "code",
   "execution_count": 59,
   "id": "f1f18785",
   "metadata": {},
   "outputs": [],
   "source": [
    "df2.to_csv('109036.csv',index=False)"
   ]
  },
  {
   "cell_type": "code",
   "execution_count": 60,
   "id": "9ff9826e",
   "metadata": {},
   "outputs": [
    {
     "data": {
      "text/html": [
       "<div>\n",
       "<style scoped>\n",
       "    .dataframe tbody tr th:only-of-type {\n",
       "        vertical-align: middle;\n",
       "    }\n",
       "\n",
       "    .dataframe tbody tr th {\n",
       "        vertical-align: top;\n",
       "    }\n",
       "\n",
       "    .dataframe thead th {\n",
       "        text-align: right;\n",
       "    }\n",
       "</style>\n",
       "<table border=\"1\" class=\"dataframe\">\n",
       "  <thead>\n",
       "    <tr style=\"text-align: right;\">\n",
       "      <th></th>\n",
       "      <th>title</th>\n",
       "      <th>links</th>\n",
       "    </tr>\n",
       "  </thead>\n",
       "  <tbody>\n",
       "    <tr>\n",
       "      <th>0</th>\n",
       "      <td>Dump NumPy Array to YAML as regular list</td>\n",
       "      <td>https://stackoverflow.com//questions/75508283/...</td>\n",
       "    </tr>\n",
       "    <tr>\n",
       "      <th>1</th>\n",
       "      <td>Unique string to Python Dictonary and then dum...</td>\n",
       "      <td>https://stackoverflow.com//questions/75453802/...</td>\n",
       "    </tr>\n",
       "    <tr>\n",
       "      <th>2</th>\n",
       "      <td>Can't correctly dump Ansible vault into yaml w...</td>\n",
       "      <td>https://stackoverflow.com//questions/75446123/...</td>\n",
       "    </tr>\n",
       "    <tr>\n",
       "      <th>3</th>\n",
       "      <td>safe loading yaml file on stable diffusion def...</td>\n",
       "      <td>https://stackoverflow.com//questions/75443015/...</td>\n",
       "    </tr>\n",
       "    <tr>\n",
       "      <th>4</th>\n",
       "      <td>How can I update a value in a YAML file?</td>\n",
       "      <td>https://stackoverflow.com//questions/75417220/...</td>\n",
       "    </tr>\n",
       "    <tr>\n",
       "      <th>...</th>\n",
       "      <td>...</td>\n",
       "      <td>...</td>\n",
       "    </tr>\n",
       "    <tr>\n",
       "      <th>115476</th>\n",
       "      <td>sphinx-apidoc does not find all python files</td>\n",
       "      <td>https://stackoverflow.com//questions/25681394/...</td>\n",
       "    </tr>\n",
       "    <tr>\n",
       "      <th>115477</th>\n",
       "      <td>How to generate index.rst alone or generate ev...</td>\n",
       "      <td>https://stackoverflow.com//questions/21842380/...</td>\n",
       "    </tr>\n",
       "    <tr>\n",
       "      <th>115478</th>\n",
       "      <td>sphinx-apidoc -F -o &lt;output_dir&gt; &lt;project_dir&gt;...</td>\n",
       "      <td>https://stackoverflow.com//questions/20809950/...</td>\n",
       "    </tr>\n",
       "    <tr>\n",
       "      <th>115479</th>\n",
       "      <td>using Sphinx's sphinx-apidoc utility to autoge...</td>\n",
       "      <td>https://stackoverflow.com//questions/19037649/...</td>\n",
       "    </tr>\n",
       "    <tr>\n",
       "      <th>115480</th>\n",
       "      <td>sphinx-apidoc usage - multiple source python d...</td>\n",
       "      <td>https://stackoverflow.com//questions/13116155/...</td>\n",
       "    </tr>\n",
       "  </tbody>\n",
       "</table>\n",
       "<p>109036 rows × 2 columns</p>\n",
       "</div>"
      ],
      "text/plain": [
       "                                                    title  \\\n",
       "0                Dump NumPy Array to YAML as regular list   \n",
       "1       Unique string to Python Dictonary and then dum...   \n",
       "2       Can't correctly dump Ansible vault into yaml w...   \n",
       "3       safe loading yaml file on stable diffusion def...   \n",
       "4                How can I update a value in a YAML file?   \n",
       "...                                                   ...   \n",
       "115476       sphinx-apidoc does not find all python files   \n",
       "115477  How to generate index.rst alone or generate ev...   \n",
       "115478  sphinx-apidoc -F -o <output_dir> <project_dir>...   \n",
       "115479  using Sphinx's sphinx-apidoc utility to autoge...   \n",
       "115480  sphinx-apidoc usage - multiple source python d...   \n",
       "\n",
       "                                                    links  \n",
       "0       https://stackoverflow.com//questions/75508283/...  \n",
       "1       https://stackoverflow.com//questions/75453802/...  \n",
       "2       https://stackoverflow.com//questions/75446123/...  \n",
       "3       https://stackoverflow.com//questions/75443015/...  \n",
       "4       https://stackoverflow.com//questions/75417220/...  \n",
       "...                                                   ...  \n",
       "115476  https://stackoverflow.com//questions/25681394/...  \n",
       "115477  https://stackoverflow.com//questions/21842380/...  \n",
       "115478  https://stackoverflow.com//questions/20809950/...  \n",
       "115479  https://stackoverflow.com//questions/19037649/...  \n",
       "115480  https://stackoverflow.com//questions/13116155/...  \n",
       "\n",
       "[109036 rows x 2 columns]"
      ]
     },
     "execution_count": 60,
     "metadata": {},
     "output_type": "execute_result"
    }
   ],
   "source": [
    "df2"
   ]
  },
  {
   "cell_type": "code",
   "execution_count": 61,
   "id": "e373d598",
   "metadata": {},
   "outputs": [
    {
     "name": "stdout",
     "output_type": "stream",
     "text": [
      "<class 'pandas.core.frame.DataFrame'>\n",
      "Int64Index: 109036 entries, 0 to 115480\n",
      "Data columns (total 2 columns):\n",
      " #   Column  Non-Null Count   Dtype \n",
      "---  ------  --------------   ----- \n",
      " 0   title   109036 non-null  object\n",
      " 1   links   109036 non-null  object\n",
      "dtypes: object(2)\n",
      "memory usage: 2.5+ MB\n"
     ]
    }
   ],
   "source": [
    "df2.info()"
   ]
  },
  {
   "cell_type": "code",
   "execution_count": 62,
   "id": "bd918d95",
   "metadata": {},
   "outputs": [
    {
     "data": {
      "text/html": [
       "<div>\n",
       "<style scoped>\n",
       "    .dataframe tbody tr th:only-of-type {\n",
       "        vertical-align: middle;\n",
       "    }\n",
       "\n",
       "    .dataframe tbody tr th {\n",
       "        vertical-align: top;\n",
       "    }\n",
       "\n",
       "    .dataframe thead th {\n",
       "        text-align: right;\n",
       "    }\n",
       "</style>\n",
       "<table border=\"1\" class=\"dataframe\">\n",
       "  <thead>\n",
       "    <tr style=\"text-align: right;\">\n",
       "      <th></th>\n",
       "      <th>title</th>\n",
       "      <th>links</th>\n",
       "    </tr>\n",
       "  </thead>\n",
       "  <tbody>\n",
       "    <tr>\n",
       "      <th>0</th>\n",
       "      <td>Dump NumPy Array to YAML as regular list</td>\n",
       "      <td>https://stackoverflow.com//questions/75508283/...</td>\n",
       "    </tr>\n",
       "    <tr>\n",
       "      <th>1</th>\n",
       "      <td>Unique string to Python Dictonary and then dum...</td>\n",
       "      <td>https://stackoverflow.com//questions/75453802/...</td>\n",
       "    </tr>\n",
       "    <tr>\n",
       "      <th>2</th>\n",
       "      <td>Can't correctly dump Ansible vault into yaml w...</td>\n",
       "      <td>https://stackoverflow.com//questions/75446123/...</td>\n",
       "    </tr>\n",
       "    <tr>\n",
       "      <th>3</th>\n",
       "      <td>safe loading yaml file on stable diffusion def...</td>\n",
       "      <td>https://stackoverflow.com//questions/75443015/...</td>\n",
       "    </tr>\n",
       "    <tr>\n",
       "      <th>4</th>\n",
       "      <td>How can I update a value in a YAML file?</td>\n",
       "      <td>https://stackoverflow.com//questions/75417220/...</td>\n",
       "    </tr>\n",
       "    <tr>\n",
       "      <th>...</th>\n",
       "      <td>...</td>\n",
       "      <td>...</td>\n",
       "    </tr>\n",
       "    <tr>\n",
       "      <th>115476</th>\n",
       "      <td>sphinx-apidoc does not find all python files</td>\n",
       "      <td>https://stackoverflow.com//questions/25681394/...</td>\n",
       "    </tr>\n",
       "    <tr>\n",
       "      <th>115477</th>\n",
       "      <td>How to generate index.rst alone or generate ev...</td>\n",
       "      <td>https://stackoverflow.com//questions/21842380/...</td>\n",
       "    </tr>\n",
       "    <tr>\n",
       "      <th>115478</th>\n",
       "      <td>sphinx-apidoc -F -o &lt;output_dir&gt; &lt;project_dir&gt;...</td>\n",
       "      <td>https://stackoverflow.com//questions/20809950/...</td>\n",
       "    </tr>\n",
       "    <tr>\n",
       "      <th>115479</th>\n",
       "      <td>using Sphinx's sphinx-apidoc utility to autoge...</td>\n",
       "      <td>https://stackoverflow.com//questions/19037649/...</td>\n",
       "    </tr>\n",
       "    <tr>\n",
       "      <th>115480</th>\n",
       "      <td>sphinx-apidoc usage - multiple source python d...</td>\n",
       "      <td>https://stackoverflow.com//questions/13116155/...</td>\n",
       "    </tr>\n",
       "  </tbody>\n",
       "</table>\n",
       "<p>109036 rows × 2 columns</p>\n",
       "</div>"
      ],
      "text/plain": [
       "                                                    title  \\\n",
       "0                Dump NumPy Array to YAML as regular list   \n",
       "1       Unique string to Python Dictonary and then dum...   \n",
       "2       Can't correctly dump Ansible vault into yaml w...   \n",
       "3       safe loading yaml file on stable diffusion def...   \n",
       "4                How can I update a value in a YAML file?   \n",
       "...                                                   ...   \n",
       "115476       sphinx-apidoc does not find all python files   \n",
       "115477  How to generate index.rst alone or generate ev...   \n",
       "115478  sphinx-apidoc -F -o <output_dir> <project_dir>...   \n",
       "115479  using Sphinx's sphinx-apidoc utility to autoge...   \n",
       "115480  sphinx-apidoc usage - multiple source python d...   \n",
       "\n",
       "                                                    links  \n",
       "0       https://stackoverflow.com//questions/75508283/...  \n",
       "1       https://stackoverflow.com//questions/75453802/...  \n",
       "2       https://stackoverflow.com//questions/75446123/...  \n",
       "3       https://stackoverflow.com//questions/75443015/...  \n",
       "4       https://stackoverflow.com//questions/75417220/...  \n",
       "...                                                   ...  \n",
       "115476  https://stackoverflow.com//questions/25681394/...  \n",
       "115477  https://stackoverflow.com//questions/21842380/...  \n",
       "115478  https://stackoverflow.com//questions/20809950/...  \n",
       "115479  https://stackoverflow.com//questions/19037649/...  \n",
       "115480  https://stackoverflow.com//questions/13116155/...  \n",
       "\n",
       "[109036 rows x 2 columns]"
      ]
     },
     "execution_count": 62,
     "metadata": {},
     "output_type": "execute_result"
    }
   ],
   "source": [
    "df2"
   ]
  },
  {
   "cell_type": "code",
   "execution_count": 63,
   "id": "d11dfe82",
   "metadata": {},
   "outputs": [
    {
     "data": {
      "text/html": [
       "<div>\n",
       "<style scoped>\n",
       "    .dataframe tbody tr th:only-of-type {\n",
       "        vertical-align: middle;\n",
       "    }\n",
       "\n",
       "    .dataframe tbody tr th {\n",
       "        vertical-align: top;\n",
       "    }\n",
       "\n",
       "    .dataframe thead th {\n",
       "        text-align: right;\n",
       "    }\n",
       "</style>\n",
       "<table border=\"1\" class=\"dataframe\">\n",
       "  <thead>\n",
       "    <tr style=\"text-align: right;\">\n",
       "      <th></th>\n",
       "      <th>title</th>\n",
       "      <th>links</th>\n",
       "    </tr>\n",
       "  </thead>\n",
       "  <tbody>\n",
       "    <tr>\n",
       "      <th>0</th>\n",
       "      <td>Dump NumPy Array to YAML as regular list</td>\n",
       "      <td>https://stackoverflow.com//questions/75508283/...</td>\n",
       "    </tr>\n",
       "    <tr>\n",
       "      <th>1</th>\n",
       "      <td>Unique string to Python Dictonary and then dum...</td>\n",
       "      <td>https://stackoverflow.com//questions/75453802/...</td>\n",
       "    </tr>\n",
       "    <tr>\n",
       "      <th>2</th>\n",
       "      <td>Can't correctly dump Ansible vault into yaml w...</td>\n",
       "      <td>https://stackoverflow.com//questions/75446123/...</td>\n",
       "    </tr>\n",
       "    <tr>\n",
       "      <th>3</th>\n",
       "      <td>safe loading yaml file on stable diffusion def...</td>\n",
       "      <td>https://stackoverflow.com//questions/75443015/...</td>\n",
       "    </tr>\n",
       "    <tr>\n",
       "      <th>4</th>\n",
       "      <td>How can I update a value in a YAML file?</td>\n",
       "      <td>https://stackoverflow.com//questions/75417220/...</td>\n",
       "    </tr>\n",
       "    <tr>\n",
       "      <th>...</th>\n",
       "      <td>...</td>\n",
       "      <td>...</td>\n",
       "    </tr>\n",
       "    <tr>\n",
       "      <th>115476</th>\n",
       "      <td>sphinx-apidoc does not find all python files</td>\n",
       "      <td>https://stackoverflow.com//questions/25681394/...</td>\n",
       "    </tr>\n",
       "    <tr>\n",
       "      <th>115477</th>\n",
       "      <td>How to generate index.rst alone or generate ev...</td>\n",
       "      <td>https://stackoverflow.com//questions/21842380/...</td>\n",
       "    </tr>\n",
       "    <tr>\n",
       "      <th>115478</th>\n",
       "      <td>sphinx-apidoc -F -o &lt;output_dir&gt; &lt;project_dir&gt;...</td>\n",
       "      <td>https://stackoverflow.com//questions/20809950/...</td>\n",
       "    </tr>\n",
       "    <tr>\n",
       "      <th>115479</th>\n",
       "      <td>using Sphinx's sphinx-apidoc utility to autoge...</td>\n",
       "      <td>https://stackoverflow.com//questions/19037649/...</td>\n",
       "    </tr>\n",
       "    <tr>\n",
       "      <th>115480</th>\n",
       "      <td>sphinx-apidoc usage - multiple source python d...</td>\n",
       "      <td>https://stackoverflow.com//questions/13116155/...</td>\n",
       "    </tr>\n",
       "  </tbody>\n",
       "</table>\n",
       "<p>109036 rows × 2 columns</p>\n",
       "</div>"
      ],
      "text/plain": [
       "                                                    title  \\\n",
       "0                Dump NumPy Array to YAML as regular list   \n",
       "1       Unique string to Python Dictonary and then dum...   \n",
       "2       Can't correctly dump Ansible vault into yaml w...   \n",
       "3       safe loading yaml file on stable diffusion def...   \n",
       "4                How can I update a value in a YAML file?   \n",
       "...                                                   ...   \n",
       "115476       sphinx-apidoc does not find all python files   \n",
       "115477  How to generate index.rst alone or generate ev...   \n",
       "115478  sphinx-apidoc -F -o <output_dir> <project_dir>...   \n",
       "115479  using Sphinx's sphinx-apidoc utility to autoge...   \n",
       "115480  sphinx-apidoc usage - multiple source python d...   \n",
       "\n",
       "                                                    links  \n",
       "0       https://stackoverflow.com//questions/75508283/...  \n",
       "1       https://stackoverflow.com//questions/75453802/...  \n",
       "2       https://stackoverflow.com//questions/75446123/...  \n",
       "3       https://stackoverflow.com//questions/75443015/...  \n",
       "4       https://stackoverflow.com//questions/75417220/...  \n",
       "...                                                   ...  \n",
       "115476  https://stackoverflow.com//questions/25681394/...  \n",
       "115477  https://stackoverflow.com//questions/21842380/...  \n",
       "115478  https://stackoverflow.com//questions/20809950/...  \n",
       "115479  https://stackoverflow.com//questions/19037649/...  \n",
       "115480  https://stackoverflow.com//questions/13116155/...  \n",
       "\n",
       "[109036 rows x 2 columns]"
      ]
     },
     "execution_count": 63,
     "metadata": {},
     "output_type": "execute_result"
    }
   ],
   "source": [
    "df2=df2.drop_duplicates()\n",
    "df2"
   ]
  },
  {
   "cell_type": "code",
   "execution_count": 64,
   "id": "ee13602f",
   "metadata": {},
   "outputs": [
    {
     "name": "stdout",
     "output_type": "stream",
     "text": [
      "<class 'pandas.core.frame.DataFrame'>\n",
      "Int64Index: 109036 entries, 0 to 115480\n",
      "Data columns (total 2 columns):\n",
      " #   Column  Non-Null Count   Dtype \n",
      "---  ------  --------------   ----- \n",
      " 0   title   109036 non-null  object\n",
      " 1   links   109036 non-null  object\n",
      "dtypes: object(2)\n",
      "memory usage: 2.5+ MB\n"
     ]
    }
   ],
   "source": [
    "df2.info()"
   ]
  },
  {
   "cell_type": "code",
   "execution_count": 65,
   "id": "b51760c3",
   "metadata": {},
   "outputs": [
    {
     "data": {
      "text/html": [
       "<div>\n",
       "<style scoped>\n",
       "    .dataframe tbody tr th:only-of-type {\n",
       "        vertical-align: middle;\n",
       "    }\n",
       "\n",
       "    .dataframe tbody tr th {\n",
       "        vertical-align: top;\n",
       "    }\n",
       "\n",
       "    .dataframe thead th {\n",
       "        text-align: right;\n",
       "    }\n",
       "</style>\n",
       "<table border=\"1\" class=\"dataframe\">\n",
       "  <thead>\n",
       "    <tr style=\"text-align: right;\">\n",
       "      <th></th>\n",
       "      <th>title</th>\n",
       "      <th>links</th>\n",
       "    </tr>\n",
       "  </thead>\n",
       "  <tbody>\n",
       "    <tr>\n",
       "      <th>0</th>\n",
       "      <td>Dump NumPy Array to YAML as regular list</td>\n",
       "      <td>https://stackoverflow.com//questions/75508283/...</td>\n",
       "    </tr>\n",
       "    <tr>\n",
       "      <th>1</th>\n",
       "      <td>Unique string to Python Dictonary and then dum...</td>\n",
       "      <td>https://stackoverflow.com//questions/75453802/...</td>\n",
       "    </tr>\n",
       "    <tr>\n",
       "      <th>2</th>\n",
       "      <td>Can't correctly dump Ansible vault into yaml w...</td>\n",
       "      <td>https://stackoverflow.com//questions/75446123/...</td>\n",
       "    </tr>\n",
       "    <tr>\n",
       "      <th>3</th>\n",
       "      <td>safe loading yaml file on stable diffusion def...</td>\n",
       "      <td>https://stackoverflow.com//questions/75443015/...</td>\n",
       "    </tr>\n",
       "    <tr>\n",
       "      <th>4</th>\n",
       "      <td>How can I update a value in a YAML file?</td>\n",
       "      <td>https://stackoverflow.com//questions/75417220/...</td>\n",
       "    </tr>\n",
       "    <tr>\n",
       "      <th>...</th>\n",
       "      <td>...</td>\n",
       "      <td>...</td>\n",
       "    </tr>\n",
       "    <tr>\n",
       "      <th>115476</th>\n",
       "      <td>sphinx-apidoc does not find all python files</td>\n",
       "      <td>https://stackoverflow.com//questions/25681394/...</td>\n",
       "    </tr>\n",
       "    <tr>\n",
       "      <th>115477</th>\n",
       "      <td>How to generate index.rst alone or generate ev...</td>\n",
       "      <td>https://stackoverflow.com//questions/21842380/...</td>\n",
       "    </tr>\n",
       "    <tr>\n",
       "      <th>115478</th>\n",
       "      <td>sphinx-apidoc -F -o &lt;output_dir&gt; &lt;project_dir&gt;...</td>\n",
       "      <td>https://stackoverflow.com//questions/20809950/...</td>\n",
       "    </tr>\n",
       "    <tr>\n",
       "      <th>115479</th>\n",
       "      <td>using Sphinx's sphinx-apidoc utility to autoge...</td>\n",
       "      <td>https://stackoverflow.com//questions/19037649/...</td>\n",
       "    </tr>\n",
       "    <tr>\n",
       "      <th>115480</th>\n",
       "      <td>sphinx-apidoc usage - multiple source python d...</td>\n",
       "      <td>https://stackoverflow.com//questions/13116155/...</td>\n",
       "    </tr>\n",
       "  </tbody>\n",
       "</table>\n",
       "<p>109036 rows × 2 columns</p>\n",
       "</div>"
      ],
      "text/plain": [
       "                                                    title  \\\n",
       "0                Dump NumPy Array to YAML as regular list   \n",
       "1       Unique string to Python Dictonary and then dum...   \n",
       "2       Can't correctly dump Ansible vault into yaml w...   \n",
       "3       safe loading yaml file on stable diffusion def...   \n",
       "4                How can I update a value in a YAML file?   \n",
       "...                                                   ...   \n",
       "115476       sphinx-apidoc does not find all python files   \n",
       "115477  How to generate index.rst alone or generate ev...   \n",
       "115478  sphinx-apidoc -F -o <output_dir> <project_dir>...   \n",
       "115479  using Sphinx's sphinx-apidoc utility to autoge...   \n",
       "115480  sphinx-apidoc usage - multiple source python d...   \n",
       "\n",
       "                                                    links  \n",
       "0       https://stackoverflow.com//questions/75508283/...  \n",
       "1       https://stackoverflow.com//questions/75453802/...  \n",
       "2       https://stackoverflow.com//questions/75446123/...  \n",
       "3       https://stackoverflow.com//questions/75443015/...  \n",
       "4       https://stackoverflow.com//questions/75417220/...  \n",
       "...                                                   ...  \n",
       "115476  https://stackoverflow.com//questions/25681394/...  \n",
       "115477  https://stackoverflow.com//questions/21842380/...  \n",
       "115478  https://stackoverflow.com//questions/20809950/...  \n",
       "115479  https://stackoverflow.com//questions/19037649/...  \n",
       "115480  https://stackoverflow.com//questions/13116155/...  \n",
       "\n",
       "[109036 rows x 2 columns]"
      ]
     },
     "execution_count": 65,
     "metadata": {},
     "output_type": "execute_result"
    }
   ],
   "source": [
    "df2"
   ]
  },
  {
   "cell_type": "code",
   "execution_count": 66,
   "id": "af97b883",
   "metadata": {},
   "outputs": [],
   "source": [
    "yaml2=df2.loc[df2['title'].str.contains('yaml|YAML|Yaml')]\n",
    "xml2=df2.loc[df2['title'].str.contains('xml|XML|Xml')]\n",
    "json2=df2.loc[df2['title'].str.contains('json|JSON|Json')]\n",
    "netmiko2=df2.loc[df2['title'].str.contains('netmiko|NETMIKO|Netmiko')]\n",
    "paramiko2=df2.loc[df2['title'].str.contains('paramiko|PARAMIKO|Paramiko')]\n",
    "restconf2=df2.loc[df2['title'].str.contains('restconf|RESTCONF|Restconf')]\n",
    "netconf2=df2.loc[df2['title'].str.contains('netconf|NETCONF|Netconf')]\n",
    "ncclient2=df2.loc[df2['title'].str.contains('ncclient|NCCLIENT|Ncclient')]\n",
    "requests2=df2.loc[df2['title'].str.contains('requests|REQUESTS|Requests')]\n",
    "postman2=df2.loc[df2['title'].str.contains('postman|POSTMAN|Postman')]\n",
    "pyats2=df2.loc[df2['title'].str.contains('pyats|PYATS|Pyats')]\n",
    "napalm2=df2.loc[df2['title'].str.contains('napalm|NAPALM|Napalm')]\n",
    "ssh2=df2.loc[df2['title'].str.contains('ssh|SSH|Ssh')]\n",
    "https2=df2.loc[df2['title'].str.contains('https|HTTPS|Https')]\n",
    "socket2=df2.loc[df2['title'].str.contains('socket|SOCKET|Socket')]\n",
    "http2=df2.loc[df2['title'].str.contains('http|HTTP|Http')]\n",
    "yang2=df2.loc[df2['title'].str.contains('yang|YANG|Yang')]\n",
    "ansible2=df2.loc[df2['title'].str.contains('ansible|ANSIBLE|Ansible')]\n",
    "textfsm2=df2.loc[df2['title'].str.contains('textfsm|text-fsm|text fsm')]\n",
    "regex2=df2.loc[df2['title'].str.contains('regex|REG')]\n",
    "jinja2=df2.loc[df2['title'].str.contains('jinja|JINJA|Jinja')]\n",
    "excel2=df2.loc[df2['title'].str.contains('excel|EXCEL|Excel')]\n",
    "csv2=df2.loc[df2['title'].str.contains('csv|CSV|Csv')]\n",
    "nxapi2=df2.loc[df2['title'].str.contains('nx-api|NXAPI|Nx-Api|nxapi|NX-API')]"
   ]
  },
  {
   "cell_type": "code",
   "execution_count": 67,
   "id": "9398cd63",
   "metadata": {},
   "outputs": [],
   "source": [
    "searches=['nxapi','csv','excel','jinja','regex','textfsm','ansible','yang','http','socket','https','ssh','napalm','pyats',\n",
    "          'postman','requests','ncclient','netconf','restconf','paramiko','netmiko','json','yaml','xml']"
   ]
  },
  {
   "cell_type": "code",
   "execution_count": 70,
   "id": "e24ad0e8",
   "metadata": {},
   "outputs": [
    {
     "data": {
      "text/html": [
       "<div>\n",
       "<style scoped>\n",
       "    .dataframe tbody tr th:only-of-type {\n",
       "        vertical-align: middle;\n",
       "    }\n",
       "\n",
       "    .dataframe tbody tr th {\n",
       "        vertical-align: top;\n",
       "    }\n",
       "\n",
       "    .dataframe thead th {\n",
       "        text-align: right;\n",
       "    }\n",
       "</style>\n",
       "<table border=\"1\" class=\"dataframe\">\n",
       "  <thead>\n",
       "    <tr style=\"text-align: right;\">\n",
       "      <th></th>\n",
       "      <th>title</th>\n",
       "      <th>links</th>\n",
       "    </tr>\n",
       "  </thead>\n",
       "  <tbody>\n",
       "    <tr>\n",
       "      <th>1600</th>\n",
       "      <td>Im trying to get xmlrpc to work with paramiko ...</td>\n",
       "      <td>https://stackoverflow.com//questions/74718051/...</td>\n",
       "    </tr>\n",
       "    <tr>\n",
       "      <th>11161</th>\n",
       "      <td>Problem with sending JSON POSTs using paramiko</td>\n",
       "      <td>https://stackoverflow.com//questions/75409268/...</td>\n",
       "    </tr>\n",
       "    <tr>\n",
       "      <th>34561</th>\n",
       "      <td>Paramiko/Netmiko - Need to establish an SSH se...</td>\n",
       "      <td>https://stackoverflow.com//questions/72708133/...</td>\n",
       "    </tr>\n",
       "    <tr>\n",
       "      <th>34599</th>\n",
       "      <td>Paramiko / Netmiko SSH Error - 'paramiko.buffe...</td>\n",
       "      <td>https://stackoverflow.com//questions/61292714/...</td>\n",
       "    </tr>\n",
       "    <tr>\n",
       "      <th>34633</th>\n",
       "      <td>Paramiko / Netmiko SSH Error - 'Channel' objec...</td>\n",
       "      <td>https://stackoverflow.com//questions/41083815/...</td>\n",
       "    </tr>\n",
       "    <tr>\n",
       "      <th>...</th>\n",
       "      <td>...</td>\n",
       "      <td>...</td>\n",
       "    </tr>\n",
       "    <tr>\n",
       "      <th>35791</th>\n",
       "      <td>Where do I find the Python Crypto package when...</td>\n",
       "      <td>https://stackoverflow.com//questions/1092402/w...</td>\n",
       "    </tr>\n",
       "    <tr>\n",
       "      <th>35792</th>\n",
       "      <td>Check whether a path exists on a remote host u...</td>\n",
       "      <td>https://stackoverflow.com//questions/850749/ch...</td>\n",
       "    </tr>\n",
       "    <tr>\n",
       "      <th>35793</th>\n",
       "      <td>Long-running ssh commands in python paramiko m...</td>\n",
       "      <td>https://stackoverflow.com//questions/760978/lo...</td>\n",
       "    </tr>\n",
       "    <tr>\n",
       "      <th>35794</th>\n",
       "      <td>Running interactive commands in Paramiko</td>\n",
       "      <td>https://stackoverflow.com//questions/373639/ru...</td>\n",
       "    </tr>\n",
       "    <tr>\n",
       "      <th>35795</th>\n",
       "      <td>Why does Paramiko hang if you use it while loa...</td>\n",
       "      <td>https://stackoverflow.com//questions/443387/wh...</td>\n",
       "    </tr>\n",
       "  </tbody>\n",
       "</table>\n",
       "<p>1161 rows × 2 columns</p>\n",
       "</div>"
      ],
      "text/plain": [
       "                                                   title  \\\n",
       "1600   Im trying to get xmlrpc to work with paramiko ...   \n",
       "11161     Problem with sending JSON POSTs using paramiko   \n",
       "34561  Paramiko/Netmiko - Need to establish an SSH se...   \n",
       "34599  Paramiko / Netmiko SSH Error - 'paramiko.buffe...   \n",
       "34633  Paramiko / Netmiko SSH Error - 'Channel' objec...   \n",
       "...                                                  ...   \n",
       "35791  Where do I find the Python Crypto package when...   \n",
       "35792  Check whether a path exists on a remote host u...   \n",
       "35793  Long-running ssh commands in python paramiko m...   \n",
       "35794           Running interactive commands in Paramiko   \n",
       "35795  Why does Paramiko hang if you use it while loa...   \n",
       "\n",
       "                                                   links  \n",
       "1600   https://stackoverflow.com//questions/74718051/...  \n",
       "11161  https://stackoverflow.com//questions/75409268/...  \n",
       "34561  https://stackoverflow.com//questions/72708133/...  \n",
       "34599  https://stackoverflow.com//questions/61292714/...  \n",
       "34633  https://stackoverflow.com//questions/41083815/...  \n",
       "...                                                  ...  \n",
       "35791  https://stackoverflow.com//questions/1092402/w...  \n",
       "35792  https://stackoverflow.com//questions/850749/ch...  \n",
       "35793  https://stackoverflow.com//questions/760978/lo...  \n",
       "35794  https://stackoverflow.com//questions/373639/ru...  \n",
       "35795  https://stackoverflow.com//questions/443387/wh...  \n",
       "\n",
       "[1161 rows x 2 columns]"
      ]
     },
     "execution_count": 70,
     "metadata": {},
     "output_type": "execute_result"
    }
   ],
   "source": [
    "paramiko2"
   ]
  },
  {
   "cell_type": "code",
   "execution_count": null,
   "id": "0c9d5e72",
   "metadata": {},
   "outputs": [],
   "source": [
    "#How can I parse the output data of cisco switch by using Netmiko library\n",
    "#I want to control if SFTP client is still active at Paramiko library\n",
    "#How to parse xml from requests\n",
    "#How to merge json get requests using Python?\n",
    "#I have to get interfaces status data by using netconf protocol\n",
    "#The code snippet from Postman does not work in my computer\n",
    "#How can I use ansible for connecting to devices?\n",
    "#How can I take a back up of a network device by using napalm library\n",
    "#My python code of request library does not work with https proxies\n",
    "#How can I write a jinja template for converting a string of IP to IP address\n",
    "#How can I use regex for splitting special characters\n",
    "#I want to add data to my yaml file\n"
   ]
  },
  {
   "cell_type": "code",
   "execution_count": 81,
   "id": "c7732644",
   "metadata": {},
   "outputs": [
    {
     "name": "stdout",
     "output_type": "stream",
     "text": [
      "Type your query for NetDevops Search at StackOverFlow: I want to add data to my yaml file?\n",
      "Query: I want to add data to my yaml file?\n",
      "---------------------------\n",
      "0.846 | How to append data to YAML file\n",
      "https://stackoverflow.com//questions/48645391/how-to-append-data-to-yaml-file\n"
     ]
    }
   ],
   "source": [
    "import webbrowser\n",
    "\n",
    "query =input('Type your query for NetDevops Search at StackOverFlow: ')\n",
    "searches=['nxapi','csv','excel','jinja','regex','textfsm','ansible','yang','http','socket','https','ssh','napalm','pyats',\n",
    "          'postman','requests','ncclient','netconf','restconf','paramiko','netmiko','json','yaml','xml']\n",
    "queries=query.lower().split(' ')\n",
    "#hedef=[]\n",
    "for word in queries:\n",
    "    if word in searches:\n",
    "        #hedef.append(word)\n",
    "        #if len(hedef)==1:\n",
    "        if word=='nxapi':\n",
    "            corpus=nxapi2['title'].tolist()\n",
    "            dictionary=nxapi2.to_dict()\n",
    "        if word=='csv':\n",
    "            corpus=csv2['title'].tolist()\n",
    "            dictionary=csv2.to_dict()\n",
    "        if word=='excel':\n",
    "            corpus=excel2['title'].tolist()\n",
    "            dictionary=excel2.to_dict()\n",
    "        if word=='regex':\n",
    "            corpus=regex2['title'].tolist()\n",
    "            dictionary=regex2.to_dict()\n",
    "        if word=='jinja':\n",
    "            corpus=jinja2['title'].tolist()\n",
    "            dictionary=jinja2.to_dict()\n",
    "        if word=='textfsm':\n",
    "            corpus=textfsm2['title'].tolist()\n",
    "            dictionary=textfsm2.to_dict()\n",
    "        if word=='ansible':\n",
    "            corpus=ansible2['title'].tolist()\n",
    "            dictionary=ansible2.to_dict()\n",
    "        if word=='yang':\n",
    "            corpus=yang2['title'].tolist()\n",
    "            dictionary=yang2.to_dict()\n",
    "        if word=='http':\n",
    "            corpus=http2['title'].tolist()\n",
    "            dictionary=http2.to_dict()\n",
    "        if word=='socket':\n",
    "            corpus=socket2['title'].tolist()\n",
    "            dictionary=socket2.to_dict()\n",
    "        if word=='https':\n",
    "            corpus=https2['title'].tolist()\n",
    "            dictionary=https2.to_dict()\n",
    "        if word=='ssh':\n",
    "            corpus=ssh2['title'].tolist()\n",
    "            dictionary=ssh2.to_dict()\n",
    "        if word=='napalm':\n",
    "            corpus=napalm2['title'].tolist()\n",
    "            dictionary=napalm2.to_dict()\n",
    "        if word=='pyats':\n",
    "            corpus=pyats2['title'].tolist()\n",
    "            dictionary=pyats2.to_dict()\n",
    "        if word=='postman':\n",
    "            corpus=postman2['title'].tolist()\n",
    "            dictionary=postman2.to_dict()\n",
    "        if word=='requests':\n",
    "            corpus=requests2['title'].tolist()\n",
    "            dictionary=requests2.to_dict()\n",
    "        if word=='ncclient':\n",
    "            corpus=ncclient2['title'].tolist()\n",
    "            dictionary=ncclient2.to_dict()\n",
    "        if word=='netconf':\n",
    "            corpus=netconf2['title'].tolist()\n",
    "            dictionary=netconf2.to_dict()\n",
    "        if word=='restconf':\n",
    "            corpus=restconf2['title'].tolist()\n",
    "            dictionary=restconf2.to_dict()\n",
    "        if word=='paramiko':\n",
    "            corpus=paramiko2['title'].tolist()\n",
    "            dictionary=paramiko2.to_dict()\n",
    "        if word=='netmiko':\n",
    "            corpus=netmiko2['title'].tolist()\n",
    "            dictionary=netmiko2.to_dict()\n",
    "        if word=='json':\n",
    "            corpus=json2['title'].tolist()\n",
    "            dictionary=json2.to_dict()\n",
    "        if word=='yaml':\n",
    "            corpus=yaml2['title'].tolist()\n",
    "            dictionary=yaml2.to_dict()\n",
    "        if word=='xml':\n",
    "            corpus=xml2['title'].tolist()\n",
    "            dictionary=xml2.to_dict()\n",
    "\n",
    "        corpus_embedding = model.encode(corpus, convert_to_tensor=True, normalize_embeddings=True)\n",
    "\n",
    "        top_k = min(1, len(corpus))\n",
    "\n",
    "        query_embedding = model.encode(query, convert_to_tensor=True, normalize_embeddings=True)\n",
    "        hits = util.semantic_search(query_embedding, corpus_embedding, score_function=util.dot_score)\n",
    "        hits = hits[0]\n",
    "\n",
    "        print(\"Query:\", query)\n",
    "        print(\"---------------------------\")\n",
    "        for hit in hits[:top_k]:\n",
    "            print(f\"{round(hit['score'], 3)} | {corpus[hit['corpus_id']]}\")\n",
    "            number=str(df2[df2['title']==corpus[hit['corpus_id']]]['links'])\n",
    "            number1=number.split(' ')\n",
    "            number2=number1[0]\n",
    "            number3=int(number2)\n",
    "            url=dictionary['links'][number3]\n",
    "            print(url)\n",
    "            webbrowser.open(url)"
   ]
  },
  {
   "cell_type": "code",
   "execution_count": 71,
   "id": "fba135ec",
   "metadata": {},
   "outputs": [],
   "source": [
    "#https://stackoverflow.com/questions/74998117/how-to-parse-cisco-switch-output-data-with-netmiko\n",
    "#https://stackoverflow.com/questions/75251110/how-to-check-if-paramiko-sftp-client-is-still-open"
   ]
  },
  {
   "cell_type": "code",
   "execution_count": 74,
   "id": "f95b67bd",
   "metadata": {},
   "outputs": [
    {
     "data": {
      "text/html": [
       "<div>\n",
       "<style scoped>\n",
       "    .dataframe tbody tr th:only-of-type {\n",
       "        vertical-align: middle;\n",
       "    }\n",
       "\n",
       "    .dataframe tbody tr th {\n",
       "        vertical-align: top;\n",
       "    }\n",
       "\n",
       "    .dataframe thead th {\n",
       "        text-align: right;\n",
       "    }\n",
       "</style>\n",
       "<table border=\"1\" class=\"dataframe\">\n",
       "  <thead>\n",
       "    <tr style=\"text-align: right;\">\n",
       "      <th></th>\n",
       "      <th>title</th>\n",
       "      <th>links</th>\n",
       "    </tr>\n",
       "  </thead>\n",
       "  <tbody>\n",
       "    <tr>\n",
       "      <th>2786</th>\n",
       "      <td>How to fetch POST request body in XML format a...</td>\n",
       "      <td>https://stackoverflow.com//questions/68489519/...</td>\n",
       "    </tr>\n",
       "    <tr>\n",
       "      <th>4648</th>\n",
       "      <td>Issue with recreating XMLHttpRequest via Pytho...</td>\n",
       "      <td>https://stackoverflow.com//questions/55777955/...</td>\n",
       "    </tr>\n",
       "    <tr>\n",
       "      <th>11228</th>\n",
       "      <td>Is there a way to fetch a link from JSON respo...</td>\n",
       "      <td>https://stackoverflow.com//questions/75351345/...</td>\n",
       "    </tr>\n",
       "    <tr>\n",
       "      <th>11872</th>\n",
       "      <td>python sql to json in postmant get url with pa...</td>\n",
       "      <td>https://stackoverflow.com//questions/74683848/...</td>\n",
       "    </tr>\n",
       "    <tr>\n",
       "      <th>12098</th>\n",
       "      <td>FastAPI, SQLalchemy; By using Postman I can't ...</td>\n",
       "      <td>https://stackoverflow.com//questions/74463307/...</td>\n",
       "    </tr>\n",
       "    <tr>\n",
       "      <th>...</th>\n",
       "      <td>...</td>\n",
       "      <td>...</td>\n",
       "    </tr>\n",
       "    <tr>\n",
       "      <th>44927</th>\n",
       "      <td>Flask-RestFul: Request works well while using ...</td>\n",
       "      <td>https://stackoverflow.com//questions/23633433/...</td>\n",
       "    </tr>\n",
       "    <tr>\n",
       "      <th>44928</th>\n",
       "      <td>Django-Postman disable email notification per ...</td>\n",
       "      <td>https://stackoverflow.com//questions/18188471/...</td>\n",
       "    </tr>\n",
       "    <tr>\n",
       "      <th>44929</th>\n",
       "      <td>HTTP PUT works in RESTClient but not in Postma...</td>\n",
       "      <td>https://stackoverflow.com//questions/15715421/...</td>\n",
       "    </tr>\n",
       "    <tr>\n",
       "      <th>44930</th>\n",
       "      <td>Algorithm for Chinese Postman where some edges...</td>\n",
       "      <td>https://stackoverflow.com//questions/14927256/...</td>\n",
       "    </tr>\n",
       "    <tr>\n",
       "      <th>44931</th>\n",
       "      <td>django-postman extends a base.html that does n...</td>\n",
       "      <td>https://stackoverflow.com//questions/12832891/...</td>\n",
       "    </tr>\n",
       "  </tbody>\n",
       "</table>\n",
       "<p>309 rows × 2 columns</p>\n",
       "</div>"
      ],
      "text/plain": [
       "                                                   title  \\\n",
       "2786   How to fetch POST request body in XML format a...   \n",
       "4648   Issue with recreating XMLHttpRequest via Pytho...   \n",
       "11228  Is there a way to fetch a link from JSON respo...   \n",
       "11872  python sql to json in postmant get url with pa...   \n",
       "12098  FastAPI, SQLalchemy; By using Postman I can't ...   \n",
       "...                                                  ...   \n",
       "44927  Flask-RestFul: Request works well while using ...   \n",
       "44928  Django-Postman disable email notification per ...   \n",
       "44929  HTTP PUT works in RESTClient but not in Postma...   \n",
       "44930  Algorithm for Chinese Postman where some edges...   \n",
       "44931  django-postman extends a base.html that does n...   \n",
       "\n",
       "                                                   links  \n",
       "2786   https://stackoverflow.com//questions/68489519/...  \n",
       "4648   https://stackoverflow.com//questions/55777955/...  \n",
       "11228  https://stackoverflow.com//questions/75351345/...  \n",
       "11872  https://stackoverflow.com//questions/74683848/...  \n",
       "12098  https://stackoverflow.com//questions/74463307/...  \n",
       "...                                                  ...  \n",
       "44927  https://stackoverflow.com//questions/23633433/...  \n",
       "44928  https://stackoverflow.com//questions/18188471/...  \n",
       "44929  https://stackoverflow.com//questions/15715421/...  \n",
       "44930  https://stackoverflow.com//questions/14927256/...  \n",
       "44931  https://stackoverflow.com//questions/12832891/...  \n",
       "\n",
       "[309 rows x 2 columns]"
      ]
     },
     "execution_count": 74,
     "metadata": {},
     "output_type": "execute_result"
    }
   ],
   "source": [
    "postman2"
   ]
  },
  {
   "cell_type": "code",
   "execution_count": 80,
   "id": "80f98950",
   "metadata": {},
   "outputs": [
    {
     "data": {
      "text/html": [
       "<div>\n",
       "<style scoped>\n",
       "    .dataframe tbody tr th:only-of-type {\n",
       "        vertical-align: middle;\n",
       "    }\n",
       "\n",
       "    .dataframe tbody tr th {\n",
       "        vertical-align: top;\n",
       "    }\n",
       "\n",
       "    .dataframe thead th {\n",
       "        text-align: right;\n",
       "    }\n",
       "</style>\n",
       "<table border=\"1\" class=\"dataframe\">\n",
       "  <thead>\n",
       "    <tr style=\"text-align: right;\">\n",
       "      <th></th>\n",
       "      <th>title</th>\n",
       "      <th>links</th>\n",
       "    </tr>\n",
       "  </thead>\n",
       "  <tbody>\n",
       "    <tr>\n",
       "      <th>430</th>\n",
       "      <td>Reading regex string from Yaml file doubles ba...</td>\n",
       "      <td>https://stackoverflow.com//questions/66457468/...</td>\n",
       "    </tr>\n",
       "    <tr>\n",
       "      <th>587</th>\n",
       "      <td>Transform a list to a Kanban-like YAML with regex</td>\n",
       "      <td>https://stackoverflow.com//questions/60216303/...</td>\n",
       "    </tr>\n",
       "    <tr>\n",
       "      <th>1066</th>\n",
       "      <td>yaml exception in google app server \"unable to...</td>\n",
       "      <td>https://stackoverflow.com//questions/39263309/...</td>\n",
       "    </tr>\n",
       "    <tr>\n",
       "      <th>1340</th>\n",
       "      <td>adding regexp to yaml python</td>\n",
       "      <td>https://stackoverflow.com//questions/11341827/...</td>\n",
       "    </tr>\n",
       "    <tr>\n",
       "      <th>2670</th>\n",
       "      <td>I wrote a regex inside of a python script to a...</td>\n",
       "      <td>https://stackoverflow.com//questions/69282923/...</td>\n",
       "    </tr>\n",
       "    <tr>\n",
       "      <th>...</th>\n",
       "      <td>...</td>\n",
       "      <td>...</td>\n",
       "    </tr>\n",
       "    <tr>\n",
       "      <th>77181</th>\n",
       "      <td>Need Help Understanding how to use less comple...</td>\n",
       "      <td>https://stackoverflow.com//questions/361443/ne...</td>\n",
       "    </tr>\n",
       "    <tr>\n",
       "      <th>77182</th>\n",
       "      <td>Python regex findall numbers and dots</td>\n",
       "      <td>https://stackoverflow.com//questions/356483/py...</td>\n",
       "    </tr>\n",
       "    <tr>\n",
       "      <th>77183</th>\n",
       "      <td>Capture the contents of a regex and delete the...</td>\n",
       "      <td>https://stackoverflow.com//questions/204829/ca...</td>\n",
       "    </tr>\n",
       "    <tr>\n",
       "      <th>77185</th>\n",
       "      <td>Caching compiled regex objects in Python?</td>\n",
       "      <td>https://stackoverflow.com//questions/65266/cac...</td>\n",
       "    </tr>\n",
       "    <tr>\n",
       "      <th>77186</th>\n",
       "      <td>python regex to match multi-line preprocessor ...</td>\n",
       "      <td>https://stackoverflow.com//questions/60685/pyt...</td>\n",
       "    </tr>\n",
       "  </tbody>\n",
       "</table>\n",
       "<p>8386 rows × 2 columns</p>\n",
       "</div>"
      ],
      "text/plain": [
       "                                                   title  \\\n",
       "430    Reading regex string from Yaml file doubles ba...   \n",
       "587    Transform a list to a Kanban-like YAML with regex   \n",
       "1066   yaml exception in google app server \"unable to...   \n",
       "1340                        adding regexp to yaml python   \n",
       "2670   I wrote a regex inside of a python script to a...   \n",
       "...                                                  ...   \n",
       "77181  Need Help Understanding how to use less comple...   \n",
       "77182              Python regex findall numbers and dots   \n",
       "77183  Capture the contents of a regex and delete the...   \n",
       "77185          Caching compiled regex objects in Python?   \n",
       "77186  python regex to match multi-line preprocessor ...   \n",
       "\n",
       "                                                   links  \n",
       "430    https://stackoverflow.com//questions/66457468/...  \n",
       "587    https://stackoverflow.com//questions/60216303/...  \n",
       "1066   https://stackoverflow.com//questions/39263309/...  \n",
       "1340   https://stackoverflow.com//questions/11341827/...  \n",
       "2670   https://stackoverflow.com//questions/69282923/...  \n",
       "...                                                  ...  \n",
       "77181  https://stackoverflow.com//questions/361443/ne...  \n",
       "77182  https://stackoverflow.com//questions/356483/py...  \n",
       "77183  https://stackoverflow.com//questions/204829/ca...  \n",
       "77185  https://stackoverflow.com//questions/65266/cac...  \n",
       "77186  https://stackoverflow.com//questions/60685/pyt...  \n",
       "\n",
       "[8386 rows x 2 columns]"
      ]
     },
     "execution_count": 80,
     "metadata": {},
     "output_type": "execute_result"
    }
   ],
   "source": [
    "regex2"
   ]
  },
  {
   "cell_type": "code",
   "execution_count": null,
   "id": "545521d1",
   "metadata": {},
   "outputs": [],
   "source": []
  }
 ],
 "metadata": {
  "kernelspec": {
   "display_name": "Python 3 (ipykernel)",
   "language": "python",
   "name": "python3"
  },
  "language_info": {
   "codemirror_mode": {
    "name": "ipython",
    "version": 3
   },
   "file_extension": ".py",
   "mimetype": "text/x-python",
   "name": "python",
   "nbconvert_exporter": "python",
   "pygments_lexer": "ipython3",
   "version": "3.9.13"
  }
 },
 "nbformat": 4,
 "nbformat_minor": 5
}
